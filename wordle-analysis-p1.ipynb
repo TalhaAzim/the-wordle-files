{
 "cells": [
  {
   "cell_type": "code",
   "execution_count": 1,
   "id": "0e2b8c5d",
   "metadata": {
    "_cell_guid": "5f9ed17c-0dad-41b8-b5cf-8e1496d238c8",
    "_uuid": "be5eb0c1-0345-4357-9915-d13c5a55c4e2",
    "collapsed": true,
    "execution": {
     "iopub.execute_input": "2022-02-01T22:03:18.728784Z",
     "iopub.status.busy": "2022-02-01T22:03:18.727748Z",
     "iopub.status.idle": "2022-02-01T22:03:18.740447Z",
     "shell.execute_reply": "2022-02-01T22:03:18.739563Z",
     "shell.execute_reply.started": "2022-02-01T21:51:03.376521Z"
    },
    "jupyter": {
     "outputs_hidden": true
    },
    "papermill": {
     "duration": 0.045645,
     "end_time": "2022-02-01T22:03:18.740628",
     "exception": false,
     "start_time": "2022-02-01T22:03:18.694983",
     "status": "completed"
    },
    "tags": []
   },
   "outputs": [
    {
     "name": "stdout",
     "output_type": "stream",
     "text": [
      "/kaggle/input/wordle-word-list/unplayed_words.json\n",
      "/kaggle/input/wordle-word-list/played_words.json\n",
      "/kaggle/input/wordle-word-list/words.db\n"
     ]
    }
   ],
   "source": [
    "# This Python 3 environment comes with many helpful analytics libraries installed\n",
    "# It is defined by the kaggle/python Docker image: https://github.com/kaggle/docker-python\n",
    "# For example, here's several helpful packages to load\n",
    "\n",
    "import numpy as np # linear algebra\n",
    "import pandas as pd # data processing, CSV file I/O (e.g. pd.read_csv)\n",
    "\n",
    "# Input data files are available in the read-only \"../input/\" directory\n",
    "# For example, running this (by clicking run or pressing Shift+Enter) will list all files under the input directory\n",
    "\n",
    "INDIR = \"/kaggle/input\"\n",
    "OUTDIR = \"/kaggle/working\"\n",
    "DBNAME = \"words.db\"\n",
    "\n",
    "import os\n",
    "for dirname, _, filenames in os.walk(INDIR):\n",
    "    for filename in filenames:\n",
    "        print(os.path.join(dirname, filename))\n",
    "pd.options.plotting.backend = \"matplotlib\"\n",
    "# You can write up to 20GB to the current directory (/kaggle/working/) that gets preserved as output when you create a version using \"Save & Run All\" \n",
    "# You can also write temporary files to /kaggle/temp/, but they won't be saved outside of the current session"
   ]
  },
  {
   "cell_type": "markdown",
   "id": "eb5e4054",
   "metadata": {
    "_cell_guid": "330d9deb-8bb6-48a8-92d6-b0331812875d",
    "_uuid": "698a99f6-9052-4809-956d-d759d9282970",
    "papermill": {
     "duration": 0.018956,
     "end_time": "2022-02-01T22:03:18.779245",
     "exception": false,
     "start_time": "2022-02-01T22:03:18.760289",
     "status": "completed"
    },
    "tags": []
   },
   "source": [
    "# First things first\n",
    "\n",
    "We're going to load our words from the word lists that we copied from the source code. There are two lists, one which seems to be a list of played words and ones that have yet to be released."
   ]
  },
  {
   "cell_type": "code",
   "execution_count": 2,
   "id": "f2809e4d",
   "metadata": {
    "_cell_guid": "21190c4e-86fd-4f23-ae4c-80c5b22bbaea",
    "_uuid": "a35cc1f8-aebe-4e7e-82b0-9aca490f9a66",
    "collapsed": false,
    "execution": {
     "iopub.execute_input": "2022-02-01T22:03:18.820372Z",
     "iopub.status.busy": "2022-02-01T22:03:18.819216Z",
     "iopub.status.idle": "2022-02-01T22:03:18.905863Z",
     "shell.execute_reply": "2022-02-01T22:03:18.905259Z",
     "shell.execute_reply.started": "2022-02-01T21:51:03.387702Z"
    },
    "jupyter": {
     "outputs_hidden": false
    },
    "papermill": {
     "duration": 0.10778,
     "end_time": "2022-02-01T22:03:18.906010",
     "exception": false,
     "start_time": "2022-02-01T22:03:18.798230",
     "status": "completed"
    },
    "tags": []
   },
   "outputs": [
    {
     "data": {
      "text/html": [
       "<div>\n",
       "<style scoped>\n",
       "    .dataframe tbody tr th:only-of-type {\n",
       "        vertical-align: middle;\n",
       "    }\n",
       "\n",
       "    .dataframe tbody tr th {\n",
       "        vertical-align: top;\n",
       "    }\n",
       "\n",
       "    .dataframe thead th {\n",
       "        text-align: right;\n",
       "    }\n",
       "</style>\n",
       "<table border=\"1\" class=\"dataframe\">\n",
       "  <thead>\n",
       "    <tr style=\"text-align: right;\">\n",
       "      <th></th>\n",
       "      <th>name</th>\n",
       "      <th>played</th>\n",
       "    </tr>\n",
       "  </thead>\n",
       "  <tbody>\n",
       "    <tr>\n",
       "      <th>count</th>\n",
       "      <td>12972</td>\n",
       "      <td>12972</td>\n",
       "    </tr>\n",
       "    <tr>\n",
       "      <th>unique</th>\n",
       "      <td>12972</td>\n",
       "      <td>2</td>\n",
       "    </tr>\n",
       "    <tr>\n",
       "      <th>top</th>\n",
       "      <td>cigar</td>\n",
       "      <td>False</td>\n",
       "    </tr>\n",
       "    <tr>\n",
       "      <th>freq</th>\n",
       "      <td>1</td>\n",
       "      <td>10657</td>\n",
       "    </tr>\n",
       "  </tbody>\n",
       "</table>\n",
       "</div>"
      ],
      "text/plain": [
       "         name played\n",
       "count   12972  12972\n",
       "unique  12972      2\n",
       "top     cigar  False\n",
       "freq        1  10657"
      ]
     },
     "execution_count": 2,
     "metadata": {},
     "output_type": "execute_result"
    }
   ],
   "source": [
    "figs = {}\n",
    "\n",
    "played_words = pd.read_json(\"../input/wordle-word-list/played_words.json\")\n",
    "unplayed_words = pd.read_json(\"../input/wordle-word-list/unplayed_words.json\")\n",
    "\n",
    "played_words[1] = True\n",
    "unplayed_words[1] = False\n",
    "\n",
    "words = pd.concat([played_words, unplayed_words])\n",
    "words.columns = [\"name\", \"played\"]\n",
    "words.reset_index()\n",
    "\n",
    "words.describe()"
   ]
  },
  {
   "cell_type": "markdown",
   "id": "32f17158",
   "metadata": {
    "_cell_guid": "6134bb52-0d1e-46c5-a2d5-ca816041f33e",
    "_uuid": "d3e10323-da8f-4961-8885-f180ccae16f6",
    "papermill": {
     "duration": 0.018904,
     "end_time": "2022-02-01T22:03:18.944392",
     "exception": false,
     "start_time": "2022-02-01T22:03:18.925488",
     "status": "completed"
    },
    "tags": []
   },
   "source": [
    "# Our first heuristic\n",
    "\n",
    "Let's see how many times each letter is used in the entire wordle word list and present as a nice little bar graph."
   ]
  },
  {
   "cell_type": "code",
   "execution_count": 3,
   "id": "2622e088",
   "metadata": {
    "_cell_guid": "99447af7-2af3-4eb8-9f0d-d621fb0261a7",
    "_uuid": "170ba325-cbe7-42c2-a115-399cf8d6fb6c",
    "collapsed": false,
    "execution": {
     "iopub.execute_input": "2022-02-01T22:03:18.993313Z",
     "iopub.status.busy": "2022-02-01T22:03:18.987320Z",
     "iopub.status.idle": "2022-02-01T22:03:19.451465Z",
     "shell.execute_reply": "2022-02-01T22:03:19.450599Z",
     "shell.execute_reply.started": "2022-02-01T21:51:03.433738Z"
    },
    "jupyter": {
     "outputs_hidden": false
    },
    "papermill": {
     "duration": 0.48746,
     "end_time": "2022-02-01T22:03:19.451691",
     "exception": false,
     "start_time": "2022-02-01T22:03:18.964231",
     "status": "completed"
    },
    "tags": []
   },
   "outputs": [
    {
     "data": {
      "image/png": "[encoded data removed]",
      "text/plain": [
       "<Figure size 1152x648 with 1 Axes>"
      ]
     },
     "metadata": {
      "needs_background": "light"
     },
     "output_type": "display_data"
    }
   ],
   "source": [
    "from itertools import chain\n",
    "\n",
    "letters = pd.Series(chain.from_iterable(words[\"name\"]))\n",
    "figs[\"letter_freq.png\"] =letters.value_counts().plot(\n",
    "    kind=\"bar\",\n",
    "    title=\"Letter frequency\",\n",
    "    figsize=(16,9),\n",
    "    xlabel=\"Letters\",\n",
    "    ylabel=\"Frequency\",\n",
    "    rot=0\n",
    ")"
   ]
  },
  {
   "cell_type": "markdown",
   "id": "3019aa0a",
   "metadata": {
    "_cell_guid": "dd777feb-19bb-4b5f-8600-082d36a5d37e",
    "_uuid": "77a47fa6-0920-4c34-a3c3-95092ea2148c",
    "papermill": {
     "duration": 0.018881,
     "end_time": "2022-02-01T22:03:19.489391",
     "exception": false,
     "start_time": "2022-02-01T22:03:19.470510",
     "status": "completed"
    },
    "tags": []
   },
   "source": [
    "From the above, we can see that the top 5 letters are: s, e, a, o and r. Let's see how many words in the list are made up of these letters."
   ]
  },
  {
   "cell_type": "code",
   "execution_count": 4,
   "id": "8c70263f",
   "metadata": {
    "_cell_guid": "85a2ff65-c90c-43b6-b8f5-085a10a92445",
    "_uuid": "262ba349-cb20-4542-93b5-d02ce9fffab7",
    "collapsed": false,
    "execution": {
     "iopub.execute_input": "2022-02-01T22:03:19.535213Z",
     "iopub.status.busy": "2022-02-01T22:03:19.534197Z",
     "iopub.status.idle": "2022-02-01T22:03:19.559249Z",
     "shell.execute_reply": "2022-02-01T22:03:19.559762Z",
     "shell.execute_reply.started": "2022-02-01T21:51:03.739153Z"
    },
    "jupyter": {
     "outputs_hidden": false
    },
    "papermill": {
     "duration": 0.050448,
     "end_time": "2022-02-01T22:03:19.560076",
     "exception": false,
     "start_time": "2022-02-01T22:03:19.509628",
     "status": "completed"
    },
    "tags": []
   },
   "outputs": [
    {
     "data": {
      "text/html": [
       "<div>\n",
       "<style scoped>\n",
       "    .dataframe tbody tr th:only-of-type {\n",
       "        vertical-align: middle;\n",
       "    }\n",
       "\n",
       "    .dataframe tbody tr th {\n",
       "        vertical-align: top;\n",
       "    }\n",
       "\n",
       "    .dataframe thead th {\n",
       "        text-align: right;\n",
       "    }\n",
       "</style>\n",
       "<table border=\"1\" class=\"dataframe\">\n",
       "  <thead>\n",
       "    <tr style=\"text-align: right;\">\n",
       "      <th></th>\n",
       "      <th>name</th>\n",
       "      <th>played</th>\n",
       "    </tr>\n",
       "  </thead>\n",
       "  <tbody>\n",
       "    <tr>\n",
       "      <th>1252</th>\n",
       "      <td>arose</td>\n",
       "      <td>True</td>\n",
       "    </tr>\n",
       "    <tr>\n",
       "      <th>112</th>\n",
       "      <td>aeros</td>\n",
       "      <td>False</td>\n",
       "    </tr>\n",
       "    <tr>\n",
       "      <th>8530</th>\n",
       "      <td>soare</td>\n",
       "      <td>False</td>\n",
       "    </tr>\n",
       "  </tbody>\n",
       "</table>\n",
       "</div>"
      ],
      "text/plain": [
       "       name  played\n",
       "1252  arose    True\n",
       "112   aeros   False\n",
       "8530  soare   False"
      ]
     },
     "execution_count": 4,
     "metadata": {},
     "output_type": "execute_result"
    }
   ],
   "source": [
    "def contains_all(letters):\n",
    "    return lambda word:  set(letters) <= set(word)\n",
    "\n",
    "all_top5_letters = words[\"name\"].apply(contains_all(\"seaor\"))\n",
    "words[all_top5_letters]"
   ]
  },
  {
   "cell_type": "markdown",
   "id": "10cda0ce",
   "metadata": {
    "_cell_guid": "5192c296-7f13-4b7e-a4a8-f1b5685673cd",
    "_uuid": "7dbfc56b-97b7-4bd1-a19e-64ea1893cd7a",
    "papermill": {
     "duration": 0.019592,
     "end_time": "2022-02-01T22:03:19.599558",
     "exception": false,
     "start_time": "2022-02-01T22:03:19.579966",
     "status": "completed"
    },
    "tags": []
   },
   "source": [
    "So, how many words can we test for just by playing these words?"
   ]
  },
  {
   "cell_type": "code",
   "execution_count": 5,
   "id": "80e53834",
   "metadata": {
    "_cell_guid": "8ac46033-cfbb-41cc-adf7-7f0669b44721",
    "_uuid": "b2cb5314-8dab-4f98-a6ab-25150c804cd0",
    "collapsed": false,
    "execution": {
     "iopub.execute_input": "2022-02-01T22:03:19.652317Z",
     "iopub.status.busy": "2022-02-01T22:03:19.651355Z",
     "iopub.status.idle": "2022-02-01T22:03:19.687301Z",
     "shell.execute_reply": "2022-02-01T22:03:19.687791Z",
     "shell.execute_reply.started": "2022-02-01T21:51:03.765830Z"
    },
    "jupyter": {
     "outputs_hidden": false
    },
    "papermill": {
     "duration": 0.067519,
     "end_time": "2022-02-01T22:03:19.687998",
     "exception": false,
     "start_time": "2022-02-01T22:03:19.620479",
     "status": "completed"
    },
    "tags": []
   },
   "outputs": [
    {
     "data": {
      "text/html": [
       "<div>\n",
       "<style scoped>\n",
       "    .dataframe tbody tr th:only-of-type {\n",
       "        vertical-align: middle;\n",
       "    }\n",
       "\n",
       "    .dataframe tbody tr th {\n",
       "        vertical-align: top;\n",
       "    }\n",
       "\n",
       "    .dataframe thead th {\n",
       "        text-align: right;\n",
       "    }\n",
       "</style>\n",
       "<table border=\"1\" class=\"dataframe\">\n",
       "  <thead>\n",
       "    <tr style=\"text-align: right;\">\n",
       "      <th></th>\n",
       "      <th>name</th>\n",
       "      <th>played</th>\n",
       "    </tr>\n",
       "  </thead>\n",
       "  <tbody>\n",
       "    <tr>\n",
       "      <th>count</th>\n",
       "      <td>12395</td>\n",
       "      <td>12395</td>\n",
       "    </tr>\n",
       "    <tr>\n",
       "      <th>unique</th>\n",
       "      <td>12395</td>\n",
       "      <td>2</td>\n",
       "    </tr>\n",
       "    <tr>\n",
       "      <th>top</th>\n",
       "      <td>cigar</td>\n",
       "      <td>False</td>\n",
       "    </tr>\n",
       "    <tr>\n",
       "      <th>freq</th>\n",
       "      <td>1</td>\n",
       "      <td>10263</td>\n",
       "    </tr>\n",
       "  </tbody>\n",
       "</table>\n",
       "</div>"
      ],
      "text/plain": [
       "         name played\n",
       "count   12395  12395\n",
       "unique  12395      2\n",
       "top     cigar  False\n",
       "freq        1  10263"
      ]
     },
     "execution_count": 5,
     "metadata": {},
     "output_type": "execute_result"
    }
   ],
   "source": [
    "def contains_any(letters):\n",
    "    return lambda word: len(set(letters) & set(word)) > 0\n",
    "\n",
    "any_top5_letter = words[\"name\"].apply(contains_any(\"seaor\"))\n",
    "words[any_top5_letter].describe()"
   ]
  },
  {
   "cell_type": "markdown",
   "id": "b3ed8e43",
   "metadata": {
    "_cell_guid": "514aa632-70ec-450e-ae4c-a0637878677b",
    "_uuid": "7191b88e-2434-49a9-9bac-a086f3327bba",
    "papermill": {
     "duration": 0.022083,
     "end_time": "2022-02-01T22:03:19.733640",
     "exception": false,
     "start_time": "2022-02-01T22:03:19.711557",
     "status": "completed"
    },
    "tags": []
   },
   "source": [
    "# How about another strategy\n",
    "\n",
    "Let's try to get as many vowels done as fast as we can. We're going to find out exactly how many unique vowels each word has, while we're at it, we'll count them too."
   ]
  },
  {
   "cell_type": "code",
   "execution_count": 6,
   "id": "9c0133f0",
   "metadata": {
    "_cell_guid": "9faf93f5-e5a3-4faa-85a6-30777152ae56",
    "_uuid": "a9e36210-658c-43be-8650-8f244456f46a",
    "collapsed": false,
    "execution": {
     "iopub.execute_input": "2022-02-01T22:03:19.789354Z",
     "iopub.status.busy": "2022-02-01T22:03:19.788280Z",
     "iopub.status.idle": "2022-02-01T22:03:19.835833Z",
     "shell.execute_reply": "2022-02-01T22:03:19.836341Z",
     "shell.execute_reply.started": "2022-02-01T21:51:03.819588Z"
    },
    "jupyter": {
     "outputs_hidden": false
    },
    "papermill": {
     "duration": 0.076933,
     "end_time": "2022-02-01T22:03:19.836514",
     "exception": false,
     "start_time": "2022-02-01T22:03:19.759581",
     "status": "completed"
    },
    "tags": []
   },
   "outputs": [
    {
     "data": {
      "text/html": [
       "<div>\n",
       "<style scoped>\n",
       "    .dataframe tbody tr th:only-of-type {\n",
       "        vertical-align: middle;\n",
       "    }\n",
       "\n",
       "    .dataframe tbody tr th {\n",
       "        vertical-align: top;\n",
       "    }\n",
       "\n",
       "    .dataframe thead th {\n",
       "        text-align: right;\n",
       "    }\n",
       "</style>\n",
       "<table border=\"1\" class=\"dataframe\">\n",
       "  <thead>\n",
       "    <tr style=\"text-align: right;\">\n",
       "      <th></th>\n",
       "      <th>name</th>\n",
       "      <th>played</th>\n",
       "      <th>vowels</th>\n",
       "      <th>vowel_count</th>\n",
       "    </tr>\n",
       "  </thead>\n",
       "  <tbody>\n",
       "    <tr>\n",
       "      <th>1589</th>\n",
       "      <td>audio</td>\n",
       "      <td>True</td>\n",
       "      <td>aiou</td>\n",
       "      <td>4</td>\n",
       "    </tr>\n",
       "    <tr>\n",
       "      <th>88</th>\n",
       "      <td>adieu</td>\n",
       "      <td>False</td>\n",
       "      <td>aeiu</td>\n",
       "      <td>4</td>\n",
       "    </tr>\n",
       "    <tr>\n",
       "      <th>517</th>\n",
       "      <td>auloi</td>\n",
       "      <td>False</td>\n",
       "      <td>aiou</td>\n",
       "      <td>4</td>\n",
       "    </tr>\n",
       "    <tr>\n",
       "      <th>526</th>\n",
       "      <td>aurei</td>\n",
       "      <td>False</td>\n",
       "      <td>aeiu</td>\n",
       "      <td>4</td>\n",
       "    </tr>\n",
       "    <tr>\n",
       "      <th>5320</th>\n",
       "      <td>louie</td>\n",
       "      <td>False</td>\n",
       "      <td>eiou</td>\n",
       "      <td>4</td>\n",
       "    </tr>\n",
       "    <tr>\n",
       "      <th>5673</th>\n",
       "      <td>miaou</td>\n",
       "      <td>False</td>\n",
       "      <td>aiou</td>\n",
       "      <td>4</td>\n",
       "    </tr>\n",
       "    <tr>\n",
       "      <th>6472</th>\n",
       "      <td>ouija</td>\n",
       "      <td>False</td>\n",
       "      <td>aiou</td>\n",
       "      <td>4</td>\n",
       "    </tr>\n",
       "    <tr>\n",
       "      <th>6480</th>\n",
       "      <td>ourie</td>\n",
       "      <td>False</td>\n",
       "      <td>eiou</td>\n",
       "      <td>4</td>\n",
       "    </tr>\n",
       "    <tr>\n",
       "      <th>9796</th>\n",
       "      <td>uraei</td>\n",
       "      <td>False</td>\n",
       "      <td>aeiu</td>\n",
       "      <td>4</td>\n",
       "    </tr>\n",
       "  </tbody>\n",
       "</table>\n",
       "</div>"
      ],
      "text/plain": [
       "       name  played vowels  vowel_count\n",
       "1589  audio    True   aiou            4\n",
       "88    adieu   False   aeiu            4\n",
       "517   auloi   False   aiou            4\n",
       "526   aurei   False   aeiu            4\n",
       "5320  louie   False   eiou            4\n",
       "5673  miaou   False   aiou            4\n",
       "6472  ouija   False   aiou            4\n",
       "6480  ourie   False   eiou            4\n",
       "9796  uraei   False   aeiu            4"
      ]
     },
     "execution_count": 6,
     "metadata": {},
     "output_type": "execute_result"
    }
   ],
   "source": [
    "def get_unique_letters(letters):\n",
    "    return lambda word: ''.join(sorted(set(letters) & set(word)))\n",
    "\n",
    "words[\"vowels\"] = words[\"name\"].apply(get_unique_letters(\"aeiou\"))\n",
    "words[\"vowel_count\"] = words[\"vowels\"].str.len()\n",
    "\n",
    "filter_max_vowels = words[\"vowel_count\"] == words[\"vowel_count\"].max()\n",
    "words[filter_max_vowels]"
   ]
  },
  {
   "cell_type": "markdown",
   "id": "cfacc79c",
   "metadata": {
    "_cell_guid": "72477ce5-ced1-488e-872b-311193e1c00d",
    "_uuid": "f3404186-b16a-4227-94e3-a36f526545bf",
    "papermill": {
     "duration": 0.02546,
     "end_time": "2022-02-01T22:03:19.884210",
     "exception": false,
     "start_time": "2022-02-01T22:03:19.858750",
     "status": "completed"
    },
    "tags": []
   },
   "source": [
    "How about we plot out the vowel combos to see to see how many times they're used in the wordle list."
   ]
  },
  {
   "cell_type": "code",
   "execution_count": 7,
   "id": "203e49af",
   "metadata": {
    "_cell_guid": "68dc3ac7-8cb4-44eb-ad08-d34e2715f74c",
    "_uuid": "daa8af88-56f1-4629-9769-2ff6996be84e",
    "collapsed": false,
    "execution": {
     "iopub.execute_input": "2022-02-01T22:03:19.930873Z",
     "iopub.status.busy": "2022-02-01T22:03:19.930188Z",
     "iopub.status.idle": "2022-02-01T22:03:20.512123Z",
     "shell.execute_reply": "2022-02-01T22:03:20.511526Z",
     "shell.execute_reply.started": "2022-02-01T21:51:03.878734Z"
    },
    "jupyter": {
     "outputs_hidden": false
    },
    "papermill": {
     "duration": 0.60663,
     "end_time": "2022-02-01T22:03:20.512289",
     "exception": false,
     "start_time": "2022-02-01T22:03:19.905659",
     "status": "completed"
    },
    "tags": []
   },
   "outputs": [
    {
     "data": {
      "image/png": "[encoded data removed]",
      "text/plain": [
       "<Figure size 1152x648 with 1 Axes>"
      ]
     },
     "metadata": {
      "needs_background": "light"
     },
     "output_type": "display_data"
    }
   ],
   "source": [
    "figs[\"vowel_combo_freq.png\"] = words[\"vowels\"].value_counts().plot(\n",
    "    kind=\"bar\",\n",
    "    title=\"Vowel combination frequecy\",\n",
    "    figsize=(16,9),\n",
    "    xlabel=\"Vowels\",\n",
    "    ylabel=\"Frequency\",\n",
    "    yticks=range(0,1501,100),\n",
    "    rot=0\n",
    ")"
   ]
  },
  {
   "cell_type": "markdown",
   "id": "cf48e8d8",
   "metadata": {
    "_cell_guid": "018b9587-bf46-41db-9ea0-e4854c7a0a5d",
    "_uuid": "6f467b11-fa2c-45f9-a46f-43b5c1a2e475",
    "papermill": {
     "duration": 0.02186,
     "end_time": "2022-02-01T22:03:20.556323",
     "exception": false,
     "start_time": "2022-02-01T22:03:20.534463",
     "status": "completed"
    },
    "tags": []
   },
   "source": [
    "# How about brute force?\n",
    "\n",
    "We tried out some heuristics above to find a good starting move, but let's put all this compute power to use. We're going to find how many words can be matched to at least one letter for every word in the word list. Since this takes some time, we're going to pop those results for future use into a SQLite db. If a DB exists, we'll load the data from there, otherwise, we'll do all that work all over again."
   ]
  },
  {
   "cell_type": "code",
   "execution_count": 8,
   "id": "6fc21713",
   "metadata": {
    "_cell_guid": "3982db68-78c3-4b04-a11a-5ca017014d12",
    "_uuid": "5e6b06dd-ccf0-491a-a7ef-83f5e91cb71d",
    "collapsed": false,
    "execution": {
     "iopub.execute_input": "2022-02-01T22:03:20.612104Z",
     "iopub.status.busy": "2022-02-01T22:03:20.611371Z",
     "iopub.status.idle": "2022-02-01T22:03:20.750130Z",
     "shell.execute_reply": "2022-02-01T22:03:20.750673Z",
     "shell.execute_reply.started": "2022-02-01T21:51:04.291518Z"
    },
    "jupyter": {
     "outputs_hidden": false
    },
    "papermill": {
     "duration": 0.17348,
     "end_time": "2022-02-01T22:03:20.750870",
     "exception": false,
     "start_time": "2022-02-01T22:03:20.577390",
     "status": "completed"
    },
    "tags": []
   },
   "outputs": [
    {
     "data": {
      "text/html": [
       "<div>\n",
       "<style scoped>\n",
       "    .dataframe tbody tr th:only-of-type {\n",
       "        vertical-align: middle;\n",
       "    }\n",
       "\n",
       "    .dataframe tbody tr th {\n",
       "        vertical-align: top;\n",
       "    }\n",
       "\n",
       "    .dataframe thead th {\n",
       "        text-align: right;\n",
       "    }\n",
       "</style>\n",
       "<table border=\"1\" class=\"dataframe\">\n",
       "  <thead>\n",
       "    <tr style=\"text-align: right;\">\n",
       "      <th></th>\n",
       "      <th>name</th>\n",
       "      <th>played</th>\n",
       "      <th>vowels</th>\n",
       "      <th>vowel_count</th>\n",
       "      <th>starter_score</th>\n",
       "    </tr>\n",
       "  </thead>\n",
       "  <tbody>\n",
       "    <tr>\n",
       "      <th>11125</th>\n",
       "      <td>stoae</td>\n",
       "      <td>False</td>\n",
       "      <td>aeo</td>\n",
       "      <td>3</td>\n",
       "      <td>12416</td>\n",
       "    </tr>\n",
       "    <tr>\n",
       "      <th>11688</th>\n",
       "      <td>toeas</td>\n",
       "      <td>False</td>\n",
       "      <td>aeo</td>\n",
       "      <td>3</td>\n",
       "      <td>12416</td>\n",
       "    </tr>\n",
       "  </tbody>\n",
       "</table>\n",
       "</div>"
      ],
      "text/plain": [
       "        name  played vowels  vowel_count  starter_score\n",
       "11125  stoae   False    aeo            3          12416\n",
       "11688  toeas   False    aeo            3          12416"
      ]
     },
     "execution_count": 8,
     "metadata": {},
     "output_type": "execute_result"
    }
   ],
   "source": [
    "from sqlalchemy import create_engine\n",
    "\n",
    "def count_matches(words):\n",
    "    return lambda word: words.apply(\n",
    "        contains_any(word)\n",
    "    ).value_counts()[True] - 1\n",
    "\n",
    "try:\n",
    "    # If there is is a db with a table, use it\n",
    "    db_path = os.path.join(INDIR, \"wordle-word-list\", DBNAME)\n",
    "    cxn = create_engine(f\"sqlite:///{db_path}\")\n",
    "    words = pd.read_sql(\"SELECT * FROM words\", cxn)\n",
    "except:\n",
    "    # Otherwise, build the results from scratch and save to db\n",
    "    db_path = os.path.join(OUTDIR, DBNAME)\n",
    "    words[\"starter_score\"] = words[\"name\"].apply(count_matches(words[\"name\"]))\n",
    "    cxn = create_engine(f\"sqlite:///{db_path}\")\n",
    "    words.to_sql(\"words\", cxn, if_exists=\"replace\", index=False)\n",
    "else:\n",
    "    # When loading from db, map \"played\" to boolean\n",
    "    words[\"played\"] = words[\"played\"].map({0: False, 1: True})   \n",
    "\n",
    "words[words[\"starter_score\"] == words[\"starter_score\"].max()]"
   ]
  },
  {
   "cell_type": "markdown",
   "id": "86ffcda7",
   "metadata": {
    "_cell_guid": "89d47429-39a9-4abc-851c-447451a532e2",
    "_uuid": "2800c9f5-dc2f-4d51-8176-4d4d7260eac8",
    "papermill": {
     "duration": 0.021449,
     "end_time": "2022-02-01T22:03:20.794568",
     "exception": false,
     "start_time": "2022-02-01T22:03:20.773119",
     "status": "completed"
    },
    "tags": []
   },
   "source": [
    "As it turns out, there are two words in the word list that just barely outperform our starter words consisting of the top 5 letter:\n",
    "1. Stoae\n",
    "2. Toeas"
   ]
  },
  {
   "cell_type": "code",
   "execution_count": 9,
   "id": "6578272e",
   "metadata": {
    "_cell_guid": "3c675240-cd96-4bc9-b053-7cd4614ea3d5",
    "_uuid": "b1ac08c0-d249-4e82-b2ce-30eb808ba220",
    "collapsed": false,
    "execution": {
     "iopub.execute_input": "2022-02-01T22:03:20.841584Z",
     "iopub.status.busy": "2022-02-01T22:03:20.840854Z",
     "iopub.status.idle": "2022-02-01T22:03:21.128074Z",
     "shell.execute_reply": "2022-02-01T22:03:21.128579Z",
     "shell.execute_reply.started": "2022-02-01T21:51:04.747001Z"
    },
    "jupyter": {
     "outputs_hidden": false
    },
    "papermill": {
     "duration": 0.312914,
     "end_time": "2022-02-01T22:03:21.128761",
     "exception": false,
     "start_time": "2022-02-01T22:03:20.815847",
     "status": "completed"
    },
    "tags": []
   },
   "outputs": [
    {
     "data": {
      "image/png": "[encoded data removed]",
      "text/plain": [
       "<Figure size 1152x648 with 1 Axes>"
      ]
     },
     "metadata": {
      "needs_background": "light"
     },
     "output_type": "display_data"
    }
   ],
   "source": [
    "figs[\"starter_score_dist.png\"] = words[\"starter_score\"].plot(\n",
    "    kind=\"hist\",\n",
    "    bins=range(4000, 13000, 500),\n",
    "    title=\"Starter score distribution\",\n",
    "    figsize=(16,9),\n",
    "    xticks=range(4000, 14000, 1000)\n",
    ")"
   ]
  },
  {
   "cell_type": "markdown",
   "id": "1f43abc2",
   "metadata": {
    "_cell_guid": "2e3f6e18-360a-450a-ba18-fdfc2f6633cb",
    "_uuid": "b92ae174-3670-4322-af25-8ca17d219c0d",
    "papermill": {
     "duration": 0.023066,
     "end_time": "2022-02-01T22:03:21.174739",
     "exception": false,
     "start_time": "2022-02-01T22:03:21.151673",
     "status": "completed"
    },
    "tags": []
   },
   "source": []
  },
  {
   "cell_type": "code",
   "execution_count": 10,
   "id": "36edc6be",
   "metadata": {
    "_cell_guid": "a0d7f5a9-f4f8-4ec5-a688-e3460276bf43",
    "_uuid": "3308c728-0a89-45b2-9195-33168ae9998f",
    "collapsed": false,
    "execution": {
     "iopub.execute_input": "2022-02-01T22:03:21.224236Z",
     "iopub.status.busy": "2022-02-01T22:03:21.223445Z",
     "iopub.status.idle": "2022-02-01T22:03:21.233253Z",
     "shell.execute_reply": "2022-02-01T22:03:21.233808Z",
     "shell.execute_reply.started": "2022-02-01T21:51:05.008494Z"
    },
    "jupyter": {
     "outputs_hidden": false
    },
    "papermill": {
     "duration": 0.036306,
     "end_time": "2022-02-01T22:03:21.234005",
     "exception": false,
     "start_time": "2022-02-01T22:03:21.197699",
     "status": "completed"
    },
    "tags": []
   },
   "outputs": [
    {
     "data": {
      "text/plain": [
       "0.45713066277481695"
      ]
     },
     "execution_count": 10,
     "metadata": {},
     "output_type": "execute_result"
    }
   ],
   "source": [
    "words[\"vowel_count\"].corr(words[\"starter_score\"])"
   ]
  },
  {
   "cell_type": "markdown",
   "id": "b52ad50b",
   "metadata": {
    "_cell_guid": "bdcf146f-b8c3-4543-aa54-109c6e89d9ed",
    "_uuid": "f36b42ee-43a0-47fd-9c14-62cf56a42225",
    "papermill": {
     "duration": 0.023698,
     "end_time": "2022-02-01T22:03:21.280255",
     "exception": false,
     "start_time": "2022-02-01T22:03:21.256557",
     "status": "completed"
    },
    "tags": []
   },
   "source": []
  },
  {
   "cell_type": "markdown",
   "id": "5624b1d2",
   "metadata": {
    "_cell_guid": "19334c4c-e719-41d7-a491-2293e0d772aa",
    "_uuid": "e68504f4-ddea-4b5a-9a72-4df3ae5171e6",
    "papermill": {
     "duration": 0.023667,
     "end_time": "2022-02-01T22:03:21.327117",
     "exception": false,
     "start_time": "2022-02-01T22:03:21.303450",
     "status": "completed"
    },
    "tags": []
   },
   "source": [
    "# Don't mind me\n",
    "Just saving the plots"
   ]
  },
  {
   "cell_type": "code",
   "execution_count": 11,
   "id": "8b79f530",
   "metadata": {
    "_cell_guid": "1a5570c3-1301-44ec-9de6-a4b765ef921e",
    "_uuid": "f440fc65-ea0a-473f-bf80-1f291b483678",
    "collapsed": false,
    "execution": {
     "iopub.execute_input": "2022-02-01T22:03:21.387126Z",
     "iopub.status.busy": "2022-02-01T22:03:21.386076Z",
     "iopub.status.idle": "2022-02-01T22:03:21.692017Z",
     "shell.execute_reply": "2022-02-01T22:03:21.691393Z",
     "shell.execute_reply.started": "2022-02-01T21:51:05.018248Z"
    },
    "jupyter": {
     "outputs_hidden": false
    },
    "papermill": {
     "duration": 0.3394,
     "end_time": "2022-02-01T22:03:21.692203",
     "exception": false,
     "start_time": "2022-02-01T22:03:21.352803",
     "status": "completed"
    },
    "tags": []
   },
   "outputs": [],
   "source": [
    "for name, axes in figs.items():\n",
    "    axes.figure.savefig(name)"
   ]
  },
  {
   "cell_type": "markdown",
   "id": "d38cd665",
   "metadata": {
    "_cell_guid": "f5183753-b744-4dca-87b7-2462bb5acad7",
    "_uuid": "d5aaf9be-d205-4223-b4a1-56305f573365",
    "papermill": {
     "duration": 0.02229,
     "end_time": "2022-02-01T22:03:21.736987",
     "exception": false,
     "start_time": "2022-02-01T22:03:21.714697",
     "status": "completed"
    },
    "tags": []
   },
   "source": []
  }
 ],
 "metadata": {
  "kernelspec": {
   "display_name": "Python 3",
   "language": "python",
   "name": "python3"
  },
  "language_info": {
   "codemirror_mode": {
    "name": "ipython",
    "version": 3
   },
   "file_extension": ".py",
   "mimetype": "text/x-python",
   "name": "python",
   "nbconvert_exporter": "python",
   "pygments_lexer": "ipython3",
   "version": "3.7.12"
  },
  "papermill": {
   "default_parameters": {},
   "duration": 16.412868,
   "end_time": "2022-02-01T22:03:22.470568",
   "environment_variables": {},
   "exception": null,
   "input_path": "__notebook__.ipynb",
   "output_path": "__notebook__.ipynb",
   "parameters": {},
   "start_time": "2022-02-01T22:03:06.057700",
   "version": "2.3.3"
  }
 },
 "nbformat": 4,
 "nbformat_minor": 5
}
