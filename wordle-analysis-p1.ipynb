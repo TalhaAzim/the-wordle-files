{
 "cells": [
  {
   "cell_type": "markdown",
   "id": "5c3d5636",
   "metadata": {
    "_cell_guid": "6c4458a7-7a45-40a0-a69a-806d5defea27",
    "_uuid": "448e68b9-6bfc-4bc4-a4ff-b73186b7f2fd",
    "papermill": {
     "duration": 0.025362,
     "end_time": "2022-02-02T19:05:42.319866",
     "exception": false,
     "start_time": "2022-02-02T19:05:42.294504",
     "status": "completed"
    },
    "tags": []
   },
   "source": [
    "# First things first\n",
    "\n",
    "Let's import all the fun stuff that lets us do the really fun stuff."
   ]
  },
  {
   "cell_type": "code",
   "execution_count": 1,
   "id": "3dd3ca9e",
   "metadata": {
    "_cell_guid": "2409f407-ec7f-4260-86f6-c93b368b4054",
    "_uuid": "4c80af7c-4cb0-4a62-85da-fc02f77338bb",
    "collapsed": false,
    "execution": {
     "iopub.execute_input": "2022-02-02T19:05:42.372719Z",
     "iopub.status.busy": "2022-02-02T19:05:42.371583Z",
     "iopub.status.idle": "2022-02-02T19:05:42.379055Z",
     "shell.execute_reply": "2022-02-02T19:05:42.379592Z",
     "shell.execute_reply.started": "2022-02-02T19:00:11.923178Z"
    },
    "jupyter": {
     "outputs_hidden": false
    },
    "papermill": {
     "duration": 0.035236,
     "end_time": "2022-02-02T19:05:42.379840",
     "exception": false,
     "start_time": "2022-02-02T19:05:42.344604",
     "status": "completed"
    },
    "tags": []
   },
   "outputs": [],
   "source": [
    "import os\n",
    "import numpy as np # linear algebra\n",
    "import pandas as pd # data processing, CSV file I/O (e.g. pd.read_csv)\n",
    " \n",
    "INDIR = \"/kaggle/input\"\n",
    "OUTDIR = \"/kaggle/working\"\n",
    "DBNAME = \"words.db\"\n",
    " \n",
    "pd.options.plotting.backend = \"matplotlib\"\n",
    "figs = {}"
   ]
  },
  {
   "cell_type": "markdown",
   "id": "c9e3b109",
   "metadata": {
    "_cell_guid": "1c29d7d9-3438-4cc3-ab12-cfeec78611a5",
    "_uuid": "77836b9d-39eb-4d4f-89fd-7a73a1aefba4",
    "papermill": {
     "duration": 0.025249,
     "end_time": "2022-02-02T19:05:42.430357",
     "exception": false,
     "start_time": "2022-02-02T19:05:42.405108",
     "status": "completed"
    },
    "tags": []
   },
   "source": [
    "# Prepping the data\n",
    "\n",
    "We're going to load our words from the word lists that we copied from the source code. There are two lists, one which seems to be a list of played words and ones that have yet to be released."
   ]
  },
  {
   "cell_type": "code",
   "execution_count": 2,
   "id": "d4afb7de",
   "metadata": {
    "_cell_guid": "1c4060c2-5834-49e9-a4de-2fad532a559d",
    "_uuid": "1978ae01-9e97-413b-8840-a5a56cce2554",
    "collapsed": false,
    "execution": {
     "iopub.execute_input": "2022-02-02T19:05:42.483552Z",
     "iopub.status.busy": "2022-02-02T19:05:42.482956Z",
     "iopub.status.idle": "2022-02-02T19:05:42.575363Z",
     "shell.execute_reply": "2022-02-02T19:05:42.576073Z",
     "shell.execute_reply.started": "2022-02-02T19:00:11.932772Z"
    },
    "jupyter": {
     "outputs_hidden": false
    },
    "papermill": {
     "duration": 0.120666,
     "end_time": "2022-02-02T19:05:42.576246",
     "exception": false,
     "start_time": "2022-02-02T19:05:42.455580",
     "status": "completed"
    },
    "tags": []
   },
   "outputs": [
    {
     "data": {
      "text/html": [
       "<div>\n",
       "<style scoped>\n",
       "    .dataframe tbody tr th:only-of-type {\n",
       "        vertical-align: middle;\n",
       "    }\n",
       "\n",
       "    .dataframe tbody tr th {\n",
       "        vertical-align: top;\n",
       "    }\n",
       "\n",
       "    .dataframe thead th {\n",
       "        text-align: right;\n",
       "    }\n",
       "</style>\n",
       "<table border=\"1\" class=\"dataframe\">\n",
       "  <thead>\n",
       "    <tr style=\"text-align: right;\">\n",
       "      <th></th>\n",
       "      <th>name</th>\n",
       "      <th>played</th>\n",
       "    </tr>\n",
       "  </thead>\n",
       "  <tbody>\n",
       "    <tr>\n",
       "      <th>count</th>\n",
       "      <td>12972</td>\n",
       "      <td>12972</td>\n",
       "    </tr>\n",
       "    <tr>\n",
       "      <th>unique</th>\n",
       "      <td>12972</td>\n",
       "      <td>2</td>\n",
       "    </tr>\n",
       "    <tr>\n",
       "      <th>top</th>\n",
       "      <td>cigar</td>\n",
       "      <td>False</td>\n",
       "    </tr>\n",
       "    <tr>\n",
       "      <th>freq</th>\n",
       "      <td>1</td>\n",
       "      <td>10657</td>\n",
       "    </tr>\n",
       "  </tbody>\n",
       "</table>\n",
       "</div>"
      ],
      "text/plain": [
       "         name played\n",
       "count   12972  12972\n",
       "unique  12972      2\n",
       "top     cigar  False\n",
       "freq        1  10657"
      ]
     },
     "execution_count": 2,
     "metadata": {},
     "output_type": "execute_result"
    }
   ],
   "source": [
    "\n",
    "\n",
    "played_words = pd.read_json(\"../input/wordle-word-list/played_words.json\")\n",
    "unplayed_words = pd.read_json(\"../input/wordle-word-list/unplayed_words.json\")\n",
    "\n",
    "played_words[1] = True\n",
    "unplayed_words[1] = False\n",
    "\n",
    "words = pd.concat([played_words, unplayed_words])\n",
    "words.columns = [\"name\", \"played\"]\n",
    "words.reset_index()\n",
    "\n",
    "words.describe()"
   ]
  },
  {
   "cell_type": "markdown",
   "id": "91c15a73",
   "metadata": {
    "_cell_guid": "eddf2432-d7fe-4edf-b7e6-3dd6fa293d72",
    "_uuid": "75fa9288-bd86-4e4f-a599-958907154e7d",
    "papermill": {
     "duration": 0.024015,
     "end_time": "2022-02-02T19:05:42.625283",
     "exception": false,
     "start_time": "2022-02-02T19:05:42.601268",
     "status": "completed"
    },
    "tags": []
   },
   "source": [
    "# Our first heuristic\n",
    "\n",
    "Let's see how many times each letter is used in the entire wordle word list and present as a nice little bar graph."
   ]
  },
  {
   "cell_type": "code",
   "execution_count": 3,
   "id": "e75b3e18",
   "metadata": {
    "_cell_guid": "13ce829c-934d-4ab1-adcd-cb162d15a3c2",
    "_uuid": "a8b9742d-c13e-4b9c-92da-dedfa3204be5",
    "collapsed": false,
    "execution": {
     "iopub.execute_input": "2022-02-02T19:05:42.676866Z",
     "iopub.status.busy": "2022-02-02T19:05:42.676094Z",
     "iopub.status.idle": "2022-02-02T19:05:43.100679Z",
     "shell.execute_reply": "2022-02-02T19:05:43.101153Z",
     "shell.execute_reply.started": "2022-02-02T19:00:11.986225Z"
    },
    "jupyter": {
     "outputs_hidden": false
    },
    "papermill": {
     "duration": 0.451819,
     "end_time": "2022-02-02T19:05:43.101307",
     "exception": false,
     "start_time": "2022-02-02T19:05:42.649488",
     "status": "completed"
    },
    "tags": []
   },
   "outputs": [
    {
     "data": {
      "image/png": "[encoded data removed]",
      "text/plain": [
       "<Figure size 1152x648 with 1 Axes>"
      ]
     },
     "metadata": {
      "needs_background": "light"
     },
     "output_type": "display_data"
    }
   ],
   "source": [
    "from itertools import chain\n",
    "\n",
    "letters = pd.Series(chain.from_iterable(words[\"name\"]))\n",
    "figs[\"letter_freq.png\"] =letters.value_counts().plot(\n",
    "    kind=\"bar\",\n",
    "    title=\"Letter frequency\",\n",
    "    figsize=(16,9),\n",
    "    xlabel=\"Letters\",\n",
    "    ylabel=\"Frequency\",\n",
    "    yticks=range(0, 7001, 500),\n",
    "    rot=0\n",
    ")"
   ]
  },
  {
   "cell_type": "markdown",
   "id": "96d23d2b",
   "metadata": {
    "_cell_guid": "3a6bb6ef-3987-4b3c-93ae-b892ec06b99d",
    "_uuid": "8b935440-6137-4e57-b12f-01d22002b3ac",
    "papermill": {
     "duration": 0.025963,
     "end_time": "2022-02-02T19:05:43.153783",
     "exception": false,
     "start_time": "2022-02-02T19:05:43.127820",
     "status": "completed"
    },
    "tags": []
   },
   "source": [
    "From the above, we can see that the top 5 letters are: s, e, a, o and r. Let's see how many words in the list are made up of these letters."
   ]
  },
  {
   "cell_type": "code",
   "execution_count": 4,
   "id": "5bd2ecd3",
   "metadata": {
    "_cell_guid": "ce2bd907-08bf-4496-929d-a0158fbbc834",
    "_uuid": "4eaf6f3a-10c1-45a7-a2db-842ef6a9a8b4",
    "collapsed": false,
    "execution": {
     "iopub.execute_input": "2022-02-02T19:05:43.208875Z",
     "iopub.status.busy": "2022-02-02T19:05:43.208097Z",
     "iopub.status.idle": "2022-02-02T19:05:43.235088Z",
     "shell.execute_reply": "2022-02-02T19:05:43.235674Z",
     "shell.execute_reply.started": "2022-02-02T19:00:12.412844Z"
    },
    "jupyter": {
     "outputs_hidden": false
    },
    "papermill": {
     "duration": 0.056043,
     "end_time": "2022-02-02T19:05:43.235832",
     "exception": false,
     "start_time": "2022-02-02T19:05:43.179789",
     "status": "completed"
    },
    "tags": []
   },
   "outputs": [
    {
     "data": {
      "text/html": [
       "<div>\n",
       "<style scoped>\n",
       "    .dataframe tbody tr th:only-of-type {\n",
       "        vertical-align: middle;\n",
       "    }\n",
       "\n",
       "    .dataframe tbody tr th {\n",
       "        vertical-align: top;\n",
       "    }\n",
       "\n",
       "    .dataframe thead th {\n",
       "        text-align: right;\n",
       "    }\n",
       "</style>\n",
       "<table border=\"1\" class=\"dataframe\">\n",
       "  <thead>\n",
       "    <tr style=\"text-align: right;\">\n",
       "      <th></th>\n",
       "      <th>name</th>\n",
       "      <th>played</th>\n",
       "    </tr>\n",
       "  </thead>\n",
       "  <tbody>\n",
       "    <tr>\n",
       "      <th>1252</th>\n",
       "      <td>arose</td>\n",
       "      <td>True</td>\n",
       "    </tr>\n",
       "    <tr>\n",
       "      <th>112</th>\n",
       "      <td>aeros</td>\n",
       "      <td>False</td>\n",
       "    </tr>\n",
       "    <tr>\n",
       "      <th>8530</th>\n",
       "      <td>soare</td>\n",
       "      <td>False</td>\n",
       "    </tr>\n",
       "  </tbody>\n",
       "</table>\n",
       "</div>"
      ],
      "text/plain": [
       "       name  played\n",
       "1252  arose    True\n",
       "112   aeros   False\n",
       "8530  soare   False"
      ]
     },
     "execution_count": 4,
     "metadata": {},
     "output_type": "execute_result"
    }
   ],
   "source": [
    "def contains_all(letters):\n",
    "    return lambda word:  set(letters) <= set(word)\n",
    "\n",
    "all_top5_letters = words[\"name\"].apply(contains_all(\"seaor\"))\n",
    "words[all_top5_letters]"
   ]
  },
  {
   "cell_type": "markdown",
   "id": "01d804b4",
   "metadata": {
    "_cell_guid": "34869328-c37b-4a17-9c1c-bd78863c69d5",
    "_uuid": "34c42fc4-04ba-4c23-98c2-2284e266e050",
    "papermill": {
     "duration": 0.026787,
     "end_time": "2022-02-02T19:05:43.291168",
     "exception": false,
     "start_time": "2022-02-02T19:05:43.264381",
     "status": "completed"
    },
    "tags": []
   },
   "source": [
    "So, how many words can we test for just by playing these words?"
   ]
  },
  {
   "cell_type": "code",
   "execution_count": 5,
   "id": "1307ecc4",
   "metadata": {
    "_cell_guid": "a9d583d2-56aa-4dbb-8a63-eda1c0d660a7",
    "_uuid": "fdbc7628-5918-4ae1-a461-da1e2478d3d7",
    "collapsed": false,
    "execution": {
     "iopub.execute_input": "2022-02-02T19:05:43.355590Z",
     "iopub.status.busy": "2022-02-02T19:05:43.354989Z",
     "iopub.status.idle": "2022-02-02T19:05:43.391822Z",
     "shell.execute_reply": "2022-02-02T19:05:43.391235Z",
     "shell.execute_reply.started": "2022-02-02T19:00:12.442048Z"
    },
    "jupyter": {
     "outputs_hidden": false
    },
    "papermill": {
     "duration": 0.074017,
     "end_time": "2022-02-02T19:05:43.391946",
     "exception": false,
     "start_time": "2022-02-02T19:05:43.317929",
     "status": "completed"
    },
    "tags": []
   },
   "outputs": [
    {
     "data": {
      "text/html": [
       "<div>\n",
       "<style scoped>\n",
       "    .dataframe tbody tr th:only-of-type {\n",
       "        vertical-align: middle;\n",
       "    }\n",
       "\n",
       "    .dataframe tbody tr th {\n",
       "        vertical-align: top;\n",
       "    }\n",
       "\n",
       "    .dataframe thead th {\n",
       "        text-align: right;\n",
       "    }\n",
       "</style>\n",
       "<table border=\"1\" class=\"dataframe\">\n",
       "  <thead>\n",
       "    <tr style=\"text-align: right;\">\n",
       "      <th></th>\n",
       "      <th>name</th>\n",
       "      <th>played</th>\n",
       "    </tr>\n",
       "  </thead>\n",
       "  <tbody>\n",
       "    <tr>\n",
       "      <th>count</th>\n",
       "      <td>12395</td>\n",
       "      <td>12395</td>\n",
       "    </tr>\n",
       "    <tr>\n",
       "      <th>unique</th>\n",
       "      <td>12395</td>\n",
       "      <td>2</td>\n",
       "    </tr>\n",
       "    <tr>\n",
       "      <th>top</th>\n",
       "      <td>cigar</td>\n",
       "      <td>False</td>\n",
       "    </tr>\n",
       "    <tr>\n",
       "      <th>freq</th>\n",
       "      <td>1</td>\n",
       "      <td>10263</td>\n",
       "    </tr>\n",
       "  </tbody>\n",
       "</table>\n",
       "</div>"
      ],
      "text/plain": [
       "         name played\n",
       "count   12395  12395\n",
       "unique  12395      2\n",
       "top     cigar  False\n",
       "freq        1  10263"
      ]
     },
     "execution_count": 5,
     "metadata": {},
     "output_type": "execute_result"
    }
   ],
   "source": [
    "def contains_any(letters):\n",
    "    return lambda word: len(set(letters) & set(word)) > 0\n",
    "\n",
    "any_top5_letter = words[\"name\"].apply(contains_any(\"seaor\"))\n",
    "words[any_top5_letter].describe()"
   ]
  },
  {
   "cell_type": "markdown",
   "id": "1d730828",
   "metadata": {
    "papermill": {
     "duration": 0.026392,
     "end_time": "2022-02-02T19:05:43.445430",
     "exception": false,
     "start_time": "2022-02-02T19:05:43.419038",
     "status": "completed"
    },
    "tags": []
   },
   "source": [
    "So what does that mean for us? Well, to answer that, look at it this way: what's our worst possible scenario? Simply, that none of letters we played make up the secret word. In this case, we've still managed to do away with a great deal of the problem space, out of a total 12,972 words we've eliminated 12,395. Using only 1/6th of the time given to us, we've eliminated 95% of the problem. Let's filter for any possible words using the next 5 most common letters."
   ]
  },
  {
   "cell_type": "code",
   "execution_count": 6,
   "id": "d8655c2e",
   "metadata": {
    "execution": {
     "iopub.execute_input": "2022-02-02T19:05:43.502561Z",
     "iopub.status.busy": "2022-02-02T19:05:43.501623Z",
     "iopub.status.idle": "2022-02-02T19:05:43.512299Z",
     "shell.execute_reply": "2022-02-02T19:05:43.512921Z",
     "shell.execute_reply.started": "2022-02-02T19:00:12.488991Z"
    },
    "papermill": {
     "duration": 0.040813,
     "end_time": "2022-02-02T19:05:43.513070",
     "exception": false,
     "start_time": "2022-02-02T19:05:43.472257",
     "status": "completed"
    },
    "tags": []
   },
   "outputs": [
    {
     "data": {
      "text/html": [
       "<div>\n",
       "<style scoped>\n",
       "    .dataframe tbody tr th:only-of-type {\n",
       "        vertical-align: middle;\n",
       "    }\n",
       "\n",
       "    .dataframe tbody tr th {\n",
       "        vertical-align: top;\n",
       "    }\n",
       "\n",
       "    .dataframe thead th {\n",
       "        text-align: right;\n",
       "    }\n",
       "</style>\n",
       "<table border=\"1\" class=\"dataframe\">\n",
       "  <thead>\n",
       "    <tr style=\"text-align: right;\">\n",
       "      <th></th>\n",
       "      <th>name</th>\n",
       "      <th>played</th>\n",
       "    </tr>\n",
       "  </thead>\n",
       "  <tbody>\n",
       "    <tr>\n",
       "      <th>444</th>\n",
       "      <td>unlit</td>\n",
       "      <td>True</td>\n",
       "    </tr>\n",
       "    <tr>\n",
       "      <th>986</th>\n",
       "      <td>until</td>\n",
       "      <td>True</td>\n",
       "    </tr>\n",
       "  </tbody>\n",
       "</table>\n",
       "</div>"
      ],
      "text/plain": [
       "      name  played\n",
       "444  unlit    True\n",
       "986  until    True"
      ]
     },
     "execution_count": 6,
     "metadata": {},
     "output_type": "execute_result"
    }
   ],
   "source": [
    "words_turn2 = words[~any_top5_letter]\n",
    "\n",
    "all_next5_letters = words_turn2[\"name\"].apply(contains_all(\"intlu\"))\n",
    "words_turn2[all_next5_letters]"
   ]
  },
  {
   "cell_type": "markdown",
   "id": "efc9a412",
   "metadata": {
    "papermill": {
     "duration": 0.027452,
     "end_time": "2022-02-02T19:05:43.568083",
     "exception": false,
     "start_time": "2022-02-02T19:05:43.540631",
     "status": "completed"
    },
    "tags": []
   },
   "source": [
    "So we have two words that use the letters ranking 6 through 10. Again, our worst case scenario is that none of these letters our in the secret word. How many possibilities have we eliminated?"
   ]
  },
  {
   "cell_type": "code",
   "execution_count": 7,
   "id": "7c45460a",
   "metadata": {
    "execution": {
     "iopub.execute_input": "2022-02-02T19:05:43.626831Z",
     "iopub.status.busy": "2022-02-02T19:05:43.626036Z",
     "iopub.status.idle": "2022-02-02T19:05:43.641535Z",
     "shell.execute_reply": "2022-02-02T19:05:43.641049Z",
     "shell.execute_reply.started": "2022-02-02T19:00:12.503684Z"
    },
    "papermill": {
     "duration": 0.045868,
     "end_time": "2022-02-02T19:05:43.641642",
     "exception": false,
     "start_time": "2022-02-02T19:05:43.595774",
     "status": "completed"
    },
    "tags": []
   },
   "outputs": [
    {
     "data": {
      "text/html": [
       "<div>\n",
       "<style scoped>\n",
       "    .dataframe tbody tr th:only-of-type {\n",
       "        vertical-align: middle;\n",
       "    }\n",
       "\n",
       "    .dataframe tbody tr th {\n",
       "        vertical-align: top;\n",
       "    }\n",
       "\n",
       "    .dataframe thead th {\n",
       "        text-align: right;\n",
       "    }\n",
       "</style>\n",
       "<table border=\"1\" class=\"dataframe\">\n",
       "  <thead>\n",
       "    <tr style=\"text-align: right;\">\n",
       "      <th></th>\n",
       "      <th>name</th>\n",
       "      <th>played</th>\n",
       "    </tr>\n",
       "  </thead>\n",
       "  <tbody>\n",
       "    <tr>\n",
       "      <th>count</th>\n",
       "      <td>574</td>\n",
       "      <td>574</td>\n",
       "    </tr>\n",
       "    <tr>\n",
       "      <th>unique</th>\n",
       "      <td>574</td>\n",
       "      <td>2</td>\n",
       "    </tr>\n",
       "    <tr>\n",
       "      <th>top</th>\n",
       "      <td>humph</td>\n",
       "      <td>False</td>\n",
       "    </tr>\n",
       "    <tr>\n",
       "      <th>freq</th>\n",
       "      <td>1</td>\n",
       "      <td>392</td>\n",
       "    </tr>\n",
       "  </tbody>\n",
       "</table>\n",
       "</div>"
      ],
      "text/plain": [
       "         name played\n",
       "count     574    574\n",
       "unique    574      2\n",
       "top     humph  False\n",
       "freq        1    392"
      ]
     },
     "execution_count": 7,
     "metadata": {},
     "output_type": "execute_result"
    }
   ],
   "source": [
    "any_next5_letters = words_turn2[\"name\"].apply(contains_any(\"until\"))\n",
    "words_turn2[any_next5_letters].describe()"
   ]
  },
  {
   "cell_type": "markdown",
   "id": "b0d0a659",
   "metadata": {
    "papermill": {
     "duration": 0.028463,
     "end_time": "2022-02-02T19:05:43.689484",
     "exception": false,
     "start_time": "2022-02-02T19:05:43.661021",
     "status": "completed"
    },
    "tags": []
   },
   "source": [
    "Two turns done, and we have eliminated 12,969 (12,395 + 574) words. By turn 3, this means that we have the following possiblities left. Even if we ignore the clues dropped by the game, in three more turns, we'll have the answer."
   ]
  },
  {
   "cell_type": "code",
   "execution_count": 8,
   "id": "c1bb04a4",
   "metadata": {
    "execution": {
     "iopub.execute_input": "2022-02-02T19:05:43.754593Z",
     "iopub.status.busy": "2022-02-02T19:05:43.753724Z",
     "iopub.status.idle": "2022-02-02T19:05:43.759224Z",
     "shell.execute_reply": "2022-02-02T19:05:43.759745Z",
     "shell.execute_reply.started": "2022-02-02T19:00:12.525785Z"
    },
    "papermill": {
     "duration": 0.041716,
     "end_time": "2022-02-02T19:05:43.759902",
     "exception": false,
     "start_time": "2022-02-02T19:05:43.718186",
     "status": "completed"
    },
    "tags": []
   },
   "outputs": [
    {
     "data": {
      "text/html": [
       "<div>\n",
       "<style scoped>\n",
       "    .dataframe tbody tr th:only-of-type {\n",
       "        vertical-align: middle;\n",
       "    }\n",
       "\n",
       "    .dataframe tbody tr th {\n",
       "        vertical-align: top;\n",
       "    }\n",
       "\n",
       "    .dataframe thead th {\n",
       "        text-align: right;\n",
       "    }\n",
       "</style>\n",
       "<table border=\"1\" class=\"dataframe\">\n",
       "  <thead>\n",
       "    <tr style=\"text-align: right;\">\n",
       "      <th></th>\n",
       "      <th>name</th>\n",
       "      <th>played</th>\n",
       "    </tr>\n",
       "  </thead>\n",
       "  <tbody>\n",
       "    <tr>\n",
       "      <th>2132</th>\n",
       "      <td>pygmy</td>\n",
       "      <td>True</td>\n",
       "    </tr>\n",
       "    <tr>\n",
       "      <th>3836</th>\n",
       "      <td>gyppy</td>\n",
       "      <td>False</td>\n",
       "    </tr>\n",
       "    <tr>\n",
       "      <th>4261</th>\n",
       "      <td>hyphy</td>\n",
       "      <td>False</td>\n",
       "    </tr>\n",
       "  </tbody>\n",
       "</table>\n",
       "</div>"
      ],
      "text/plain": [
       "       name  played\n",
       "2132  pygmy    True\n",
       "3836  gyppy   False\n",
       "4261  hyphy   False"
      ]
     },
     "execution_count": 8,
     "metadata": {},
     "output_type": "execute_result"
    }
   ],
   "source": [
    "words_turn3 = words_turn2[~any_next5_letters]\n",
    "words_turn3"
   ]
  },
  {
   "cell_type": "markdown",
   "id": "40ad67e2",
   "metadata": {
    "_cell_guid": "72d2f381-0fcc-4b0e-9257-2c9c9fc528cc",
    "_uuid": "b451f92a-7a1e-4aba-a464-980dec663fa0",
    "papermill": {
     "duration": 0.027963,
     "end_time": "2022-02-02T19:05:43.816232",
     "exception": false,
     "start_time": "2022-02-02T19:05:43.788269",
     "status": "completed"
    },
    "tags": []
   },
   "source": [
    "# How about another strategy\n",
    "\n",
    "Let's try to get as many vowels done as fast as we can. We're going to find out exactly how many unique vowels each word has, while we're at it, we'll count them too."
   ]
  },
  {
   "cell_type": "code",
   "execution_count": 9,
   "id": "b6aabbff",
   "metadata": {
    "_cell_guid": "2fc6b36b-9cdb-4496-af12-a3454528b6a4",
    "_uuid": "7e4252cb-da7d-489d-bb15-5492765d7715",
    "collapsed": false,
    "execution": {
     "iopub.execute_input": "2022-02-02T19:05:43.895181Z",
     "iopub.status.busy": "2022-02-02T19:05:43.894383Z",
     "iopub.status.idle": "2022-02-02T19:05:44.073721Z",
     "shell.execute_reply": "2022-02-02T19:05:44.074315Z",
     "shell.execute_reply.started": "2022-02-02T19:00:12.538225Z"
    },
    "jupyter": {
     "outputs_hidden": false
    },
    "papermill": {
     "duration": 0.230283,
     "end_time": "2022-02-02T19:05:44.074536",
     "exception": false,
     "start_time": "2022-02-02T19:05:43.844253",
     "status": "completed"
    },
    "tags": []
   },
   "outputs": [
    {
     "data": {
      "text/html": [
       "<div>\n",
       "<style scoped>\n",
       "    .dataframe tbody tr th:only-of-type {\n",
       "        vertical-align: middle;\n",
       "    }\n",
       "\n",
       "    .dataframe tbody tr th {\n",
       "        vertical-align: top;\n",
       "    }\n",
       "\n",
       "    .dataframe thead th {\n",
       "        text-align: right;\n",
       "    }\n",
       "</style>\n",
       "<table border=\"1\" class=\"dataframe\">\n",
       "  <thead>\n",
       "    <tr style=\"text-align: right;\">\n",
       "      <th></th>\n",
       "      <th>name</th>\n",
       "      <th>played</th>\n",
       "      <th>vowels</th>\n",
       "      <th>vowel_count</th>\n",
       "    </tr>\n",
       "  </thead>\n",
       "  <tbody>\n",
       "    <tr>\n",
       "      <th>1589</th>\n",
       "      <td>audio</td>\n",
       "      <td>True</td>\n",
       "      <td>aiou</td>\n",
       "      <td>4</td>\n",
       "    </tr>\n",
       "    <tr>\n",
       "      <th>88</th>\n",
       "      <td>adieu</td>\n",
       "      <td>False</td>\n",
       "      <td>aeiu</td>\n",
       "      <td>4</td>\n",
       "    </tr>\n",
       "    <tr>\n",
       "      <th>517</th>\n",
       "      <td>auloi</td>\n",
       "      <td>False</td>\n",
       "      <td>aiou</td>\n",
       "      <td>4</td>\n",
       "    </tr>\n",
       "    <tr>\n",
       "      <th>526</th>\n",
       "      <td>aurei</td>\n",
       "      <td>False</td>\n",
       "      <td>aeiu</td>\n",
       "      <td>4</td>\n",
       "    </tr>\n",
       "    <tr>\n",
       "      <th>5320</th>\n",
       "      <td>louie</td>\n",
       "      <td>False</td>\n",
       "      <td>eiou</td>\n",
       "      <td>4</td>\n",
       "    </tr>\n",
       "    <tr>\n",
       "      <th>5673</th>\n",
       "      <td>miaou</td>\n",
       "      <td>False</td>\n",
       "      <td>aiou</td>\n",
       "      <td>4</td>\n",
       "    </tr>\n",
       "    <tr>\n",
       "      <th>6472</th>\n",
       "      <td>ouija</td>\n",
       "      <td>False</td>\n",
       "      <td>aiou</td>\n",
       "      <td>4</td>\n",
       "    </tr>\n",
       "    <tr>\n",
       "      <th>6480</th>\n",
       "      <td>ourie</td>\n",
       "      <td>False</td>\n",
       "      <td>eiou</td>\n",
       "      <td>4</td>\n",
       "    </tr>\n",
       "    <tr>\n",
       "      <th>9796</th>\n",
       "      <td>uraei</td>\n",
       "      <td>False</td>\n",
       "      <td>aeiu</td>\n",
       "      <td>4</td>\n",
       "    </tr>\n",
       "  </tbody>\n",
       "</table>\n",
       "</div>"
      ],
      "text/plain": [
       "       name  played vowels  vowel_count\n",
       "1589  audio    True   aiou            4\n",
       "88    adieu   False   aeiu            4\n",
       "517   auloi   False   aiou            4\n",
       "526   aurei   False   aeiu            4\n",
       "5320  louie   False   eiou            4\n",
       "5673  miaou   False   aiou            4\n",
       "6472  ouija   False   aiou            4\n",
       "6480  ourie   False   eiou            4\n",
       "9796  uraei   False   aeiu            4"
      ]
     },
     "execution_count": 9,
     "metadata": {},
     "output_type": "execute_result"
    }
   ],
   "source": [
    "def get_unique_letters(letters):\n",
    "    return lambda word: ''.join(sorted(set(letters) & set(word)))\n",
    "\n",
    "words[\"vowels\"] = words[\"name\"].apply(get_unique_letters(\"aeiou\"))\n",
    "words[\"vowel_count\"] = words[\"vowels\"].str.len()\n",
    "\n",
    "filter_max_vowels = words[\"vowel_count\"] == words[\"vowel_count\"].max()\n",
    "words[filter_max_vowels]"
   ]
  },
  {
   "cell_type": "markdown",
   "id": "1e85f40c",
   "metadata": {
    "_cell_guid": "5c5fefc4-7d20-4699-b86a-77b3227f075f",
    "_uuid": "667f97bd-8ab1-4223-a05e-dbeaf8a0c1cd",
    "papermill": {
     "duration": 0.029186,
     "end_time": "2022-02-02T19:05:44.133724",
     "exception": false,
     "start_time": "2022-02-02T19:05:44.104538",
     "status": "completed"
    },
    "tags": []
   },
   "source": [
    "How about we plot out the vowel combos to see to see how many times they're used in the wordle list."
   ]
  },
  {
   "cell_type": "code",
   "execution_count": 10,
   "id": "acde477b",
   "metadata": {
    "_cell_guid": "2efa8b32-646a-48b4-bbb1-1c0f2822bb26",
    "_uuid": "b1cef328-10aa-49b4-af69-b76203961421",
    "collapsed": false,
    "execution": {
     "iopub.execute_input": "2022-02-02T19:05:44.196789Z",
     "iopub.status.busy": "2022-02-02T19:05:44.195970Z",
     "iopub.status.idle": "2022-02-02T19:05:44.595213Z",
     "shell.execute_reply": "2022-02-02T19:05:44.594545Z",
     "shell.execute_reply.started": "2022-02-02T19:00:12.587294Z"
    },
    "jupyter": {
     "outputs_hidden": false
    },
    "papermill": {
     "duration": 0.431895,
     "end_time": "2022-02-02T19:05:44.595346",
     "exception": false,
     "start_time": "2022-02-02T19:05:44.163451",
     "status": "completed"
    },
    "tags": []
   },
   "outputs": [
    {
     "data": {
      "image/png": "[encoded data removed]",
      "text/plain": [
       "<Figure size 1152x648 with 1 Axes>"
      ]
     },
     "metadata": {
      "needs_background": "light"
     },
     "output_type": "display_data"
    }
   ],
   "source": [
    "figs[\"vowel_combo_freq.png\"] = words[\"vowels\"].value_counts().plot(\n",
    "    kind=\"bar\",\n",
    "    title=\"Vowel combination frequecy\",\n",
    "    figsize=(16,9),\n",
    "    xlabel=\"Vowels\",\n",
    "    ylabel=\"Frequency\",\n",
    "    yticks=range(0,1501,100),\n",
    "    rot=0\n",
    ")"
   ]
  },
  {
   "cell_type": "markdown",
   "id": "353f41b5",
   "metadata": {
    "_cell_guid": "484c7e6f-4992-475a-9273-4dbeceb7e8dd",
    "_uuid": "fd25a1db-dd98-442c-965b-52526ae4d909",
    "papermill": {
     "duration": 0.030074,
     "end_time": "2022-02-02T19:05:44.656228",
     "exception": false,
     "start_time": "2022-02-02T19:05:44.626154",
     "status": "completed"
    },
    "tags": []
   },
   "source": [
    "# How about brute force?\n",
    "\n",
    "We tried out some heuristics above to find a good starting move, but let's put all this compute power to use. We're going to find how many words can be matched to at least one letter for every word in the word list. Since this takes some time, we're going to pop those results for future use into a SQLite db. If a DB exists, we'll load the data from there, otherwise, we'll do all that work all over again."
   ]
  },
  {
   "cell_type": "code",
   "execution_count": 11,
   "id": "d0a1e1e7",
   "metadata": {
    "_cell_guid": "1a20c436-da9a-4af9-9572-313193adf838",
    "_uuid": "df655d3d-c04d-4709-8d2e-92509e9e9071",
    "collapsed": false,
    "execution": {
     "iopub.execute_input": "2022-02-02T19:05:44.728796Z",
     "iopub.status.busy": "2022-02-02T19:05:44.719969Z",
     "iopub.status.idle": "2022-02-02T19:05:44.865760Z",
     "shell.execute_reply": "2022-02-02T19:05:44.865194Z",
     "shell.execute_reply.started": "2022-02-02T19:00:13.026487Z"
    },
    "jupyter": {
     "outputs_hidden": false
    },
    "papermill": {
     "duration": 0.179297,
     "end_time": "2022-02-02T19:05:44.865902",
     "exception": false,
     "start_time": "2022-02-02T19:05:44.686605",
     "status": "completed"
    },
    "tags": []
   },
   "outputs": [
    {
     "data": {
      "text/html": [
       "<div>\n",
       "<style scoped>\n",
       "    .dataframe tbody tr th:only-of-type {\n",
       "        vertical-align: middle;\n",
       "    }\n",
       "\n",
       "    .dataframe tbody tr th {\n",
       "        vertical-align: top;\n",
       "    }\n",
       "\n",
       "    .dataframe thead th {\n",
       "        text-align: right;\n",
       "    }\n",
       "</style>\n",
       "<table border=\"1\" class=\"dataframe\">\n",
       "  <thead>\n",
       "    <tr style=\"text-align: right;\">\n",
       "      <th></th>\n",
       "      <th>name</th>\n",
       "      <th>played</th>\n",
       "      <th>vowels</th>\n",
       "      <th>vowel_count</th>\n",
       "      <th>starter_score</th>\n",
       "    </tr>\n",
       "  </thead>\n",
       "  <tbody>\n",
       "    <tr>\n",
       "      <th>11125</th>\n",
       "      <td>stoae</td>\n",
       "      <td>False</td>\n",
       "      <td>aeo</td>\n",
       "      <td>3</td>\n",
       "      <td>12416</td>\n",
       "    </tr>\n",
       "    <tr>\n",
       "      <th>11688</th>\n",
       "      <td>toeas</td>\n",
       "      <td>False</td>\n",
       "      <td>aeo</td>\n",
       "      <td>3</td>\n",
       "      <td>12416</td>\n",
       "    </tr>\n",
       "  </tbody>\n",
       "</table>\n",
       "</div>"
      ],
      "text/plain": [
       "        name  played vowels  vowel_count  starter_score\n",
       "11125  stoae   False    aeo            3          12416\n",
       "11688  toeas   False    aeo            3          12416"
      ]
     },
     "execution_count": 11,
     "metadata": {},
     "output_type": "execute_result"
    }
   ],
   "source": [
    "from sqlalchemy import create_engine\n",
    "\n",
    "def count_matches(words):\n",
    "    return lambda word: words.apply(\n",
    "        contains_any(word)\n",
    "    ).value_counts()[True] - 1\n",
    "\n",
    "try:\n",
    "    # If there is is a db with a table, use it\n",
    "    db_path = os.path.join(INDIR, \"wordle-word-list\", DBNAME)\n",
    "    cxn = create_engine(f\"sqlite:///{db_path}\")\n",
    "    words = pd.read_sql(\"SELECT * FROM words\", cxn)\n",
    "except:\n",
    "    # Otherwise, build the results from scratch and save to db\n",
    "    db_path = os.path.join(OUTDIR, DBNAME)\n",
    "    words[\"starter_score\"] = words[\"name\"].apply(count_matches(words[\"name\"]))\n",
    "    cxn = create_engine(f\"sqlite:///{db_path}\")\n",
    "    words.to_sql(\"words\", cxn, if_exists=\"replace\", index=False)\n",
    "else:\n",
    "    # When loading from db, map \"played\" to boolean\n",
    "    words[\"played\"] = words[\"played\"].map({0: False, 1: True})   \n",
    "\n",
    "words[words[\"starter_score\"] == words[\"starter_score\"].max()]"
   ]
  },
  {
   "cell_type": "markdown",
   "id": "e11b5ee3",
   "metadata": {
    "_cell_guid": "4c6d9e87-c7d8-41fe-9664-5d4ad38bbabc",
    "_uuid": "cfc91643-c093-4e62-9f97-248debf44342",
    "papermill": {
     "duration": 0.030711,
     "end_time": "2022-02-02T19:05:44.927814",
     "exception": false,
     "start_time": "2022-02-02T19:05:44.897103",
     "status": "completed"
    },
    "tags": []
   },
   "source": [
    "As it turns out, there are two words in the word list that just barely outperform our starter words consisting of the top 5 letter:\n",
    "1. Stoae\n",
    "2. Toeas"
   ]
  },
  {
   "cell_type": "code",
   "execution_count": 12,
   "id": "cfa8d097",
   "metadata": {
    "_cell_guid": "2ef55bba-ee32-4f9b-b66c-d1217247037d",
    "_uuid": "8311eeaa-f248-4682-95fe-3ce15a72ffd4",
    "collapsed": false,
    "execution": {
     "iopub.execute_input": "2022-02-02T19:05:45.001946Z",
     "iopub.status.busy": "2022-02-02T19:05:45.001103Z",
     "iopub.status.idle": "2022-02-02T19:05:45.237464Z",
     "shell.execute_reply": "2022-02-02T19:05:45.238017Z",
     "shell.execute_reply.started": "2022-02-02T19:00:13.257190Z"
    },
    "jupyter": {
     "outputs_hidden": false
    },
    "papermill": {
     "duration": 0.279553,
     "end_time": "2022-02-02T19:05:45.238191",
     "exception": false,
     "start_time": "2022-02-02T19:05:44.958638",
     "status": "completed"
    },
    "tags": []
   },
   "outputs": [
    {
     "data": {
      "image/png": "[encoded data removed]",
      "text/plain": [
       "<Figure size 1152x648 with 1 Axes>"
      ]
     },
     "metadata": {
      "needs_background": "light"
     },
     "output_type": "display_data"
    }
   ],
   "source": [
    "figs[\"starter_score_dist.png\"] = words[\"starter_score\"].plot(\n",
    "    kind=\"hist\",\n",
    "    bins=range(4000, 13000, 500),\n",
    "    title=\"Starter score distribution\",\n",
    "    figsize=(16,9),\n",
    "    xticks=range(4000, 14000, 1000)\n",
    ")"
   ]
  },
  {
   "cell_type": "markdown",
   "id": "9033d5b5",
   "metadata": {
    "_cell_guid": "e1bc7286-5b28-40f6-bc9c-ca8ae209dfaf",
    "_uuid": "7d2023e0-2171-4333-926b-412e02bdeccb",
    "papermill": {
     "duration": 0.031614,
     "end_time": "2022-02-02T19:05:45.301708",
     "exception": false,
     "start_time": "2022-02-02T19:05:45.270094",
     "status": "completed"
    },
    "tags": []
   },
   "source": []
  },
  {
   "cell_type": "code",
   "execution_count": 13,
   "id": "4f7b2bd7",
   "metadata": {
    "_cell_guid": "6456eb57-6569-4ef4-8243-fded7992fc91",
    "_uuid": "e6bb7d87-e06d-4760-84fc-842108401772",
    "collapsed": false,
    "execution": {
     "iopub.execute_input": "2022-02-02T19:05:45.369474Z",
     "iopub.status.busy": "2022-02-02T19:05:45.368619Z",
     "iopub.status.idle": "2022-02-02T19:05:45.376391Z",
     "shell.execute_reply": "2022-02-02T19:05:45.377018Z",
     "shell.execute_reply.started": "2022-02-02T19:00:13.542409Z"
    },
    "jupyter": {
     "outputs_hidden": false
    },
    "papermill": {
     "duration": 0.04343,
     "end_time": "2022-02-02T19:05:45.377172",
     "exception": false,
     "start_time": "2022-02-02T19:05:45.333742",
     "status": "completed"
    },
    "tags": []
   },
   "outputs": [
    {
     "data": {
      "text/plain": [
       "0.45713066277481695"
      ]
     },
     "execution_count": 13,
     "metadata": {},
     "output_type": "execute_result"
    }
   ],
   "source": [
    "words[\"vowel_count\"].corr(words[\"starter_score\"])"
   ]
  },
  {
   "cell_type": "markdown",
   "id": "3a0aa51b",
   "metadata": {
    "_cell_guid": "27d1d7dd-4c89-497c-9d04-eeb356600277",
    "_uuid": "b58b4150-eeb2-4c56-9add-4df12472ce27",
    "papermill": {
     "duration": 0.031632,
     "end_time": "2022-02-02T19:05:45.440496",
     "exception": false,
     "start_time": "2022-02-02T19:05:45.408864",
     "status": "completed"
    },
    "tags": []
   },
   "source": []
  },
  {
   "cell_type": "markdown",
   "id": "3c3191d8",
   "metadata": {
    "_cell_guid": "6d75b935-c772-4b39-9ed1-7e04e6998077",
    "_uuid": "730bb09e-8ba1-4086-bb37-9e249e43dd22",
    "papermill": {
     "duration": 0.031702,
     "end_time": "2022-02-02T19:05:45.504316",
     "exception": false,
     "start_time": "2022-02-02T19:05:45.472614",
     "status": "completed"
    },
    "tags": []
   },
   "source": [
    "# Don't mind me\n",
    "Just saving the plots"
   ]
  },
  {
   "cell_type": "code",
   "execution_count": 14,
   "id": "0ca74e84",
   "metadata": {
    "_cell_guid": "b292ed14-bf67-49ba-a512-02c003eeadd7",
    "_uuid": "8b735c7c-117f-45b2-b55d-d7734d48c6f9",
    "collapsed": false,
    "execution": {
     "iopub.execute_input": "2022-02-02T19:05:45.571223Z",
     "iopub.status.busy": "2022-02-02T19:05:45.570419Z",
     "iopub.status.idle": "2022-02-02T19:05:45.884474Z",
     "shell.execute_reply": "2022-02-02T19:05:45.884956Z",
     "shell.execute_reply.started": "2022-02-02T19:00:13.550739Z"
    },
    "jupyter": {
     "outputs_hidden": false
    },
    "papermill": {
     "duration": 0.349027,
     "end_time": "2022-02-02T19:05:45.885088",
     "exception": false,
     "start_time": "2022-02-02T19:05:45.536061",
     "status": "completed"
    },
    "tags": []
   },
   "outputs": [],
   "source": [
    "for name, axes in figs.items():\n",
    "    axes.figure.savefig(name)"
   ]
  },
  {
   "cell_type": "markdown",
   "id": "4c36c603",
   "metadata": {
    "_cell_guid": "6fbdcbef-f54a-41d2-b56b-1552e9548447",
    "_uuid": "a65df05a-c6ae-4a73-b568-f1f0f8cff34d",
    "papermill": {
     "duration": 0.02178,
     "end_time": "2022-02-02T19:05:45.928969",
     "exception": false,
     "start_time": "2022-02-02T19:05:45.907189",
     "status": "completed"
    },
    "tags": []
   },
   "source": []
  }
 ],
 "metadata": {
  "kernelspec": {
   "display_name": "Python 3",
   "language": "python",
   "name": "python3"
  },
  "language_info": {
   "codemirror_mode": {
    "name": "ipython",
    "version": 3
   },
   "file_extension": ".py",
   "mimetype": "text/x-python",
   "name": "python",
   "nbconvert_exporter": "python",
   "pygments_lexer": "ipython3",
   "version": "3.7.12"
  },
  "papermill": {
   "default_parameters": {},
   "duration": 14.824989,
   "end_time": "2022-02-02T19:05:46.671880",
   "environment_variables": {},
   "exception": null,
   "input_path": "__notebook__.ipynb",
   "output_path": "__notebook__.ipynb",
   "parameters": {},
   "start_time": "2022-02-02T19:05:31.846891",
   "version": "2.3.3"
  }
 },
 "nbformat": 4,
 "nbformat_minor": 5
}
