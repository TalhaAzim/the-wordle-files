{
 "cells": [
  {
   "cell_type": "markdown",
   "id": "646d9925",
   "metadata": {
    "_cell_guid": "6c4458a7-7a45-40a0-a69a-806d5defea27",
    "_uuid": "448e68b9-6bfc-4bc4-a4ff-b73186b7f2fd",
    "papermill": {
     "duration": 0.024945,
     "end_time": "2022-03-03T22:33:03.142614",
     "exception": false,
     "start_time": "2022-03-03T22:33:03.117669",
     "status": "completed"
    },
    "tags": []
   },
   "source": [
    "# First things first\n",
    "\n",
    "Let's import all the fun stuff that lets us do the really fun stuff."
   ]
  },
  {
   "cell_type": "code",
   "execution_count": 1,
   "id": "d8970c25",
   "metadata": {
    "_cell_guid": "2409f407-ec7f-4260-86f6-c93b368b4054",
    "_uuid": "4c80af7c-4cb0-4a62-85da-fc02f77338bb",
    "collapsed": false,
    "execution": {
     "iopub.execute_input": "2022-03-03T22:33:03.196959Z",
     "iopub.status.busy": "2022-03-03T22:33:03.195603Z",
     "iopub.status.idle": "2022-03-03T22:33:04.197840Z",
     "shell.execute_reply": "2022-03-03T22:33:04.197014Z",
     "shell.execute_reply.started": "2022-03-03T22:02:14.449179Z"
    },
    "jupyter": {
     "outputs_hidden": false
    },
    "papermill": {
     "duration": 1.029652,
     "end_time": "2022-03-03T22:33:04.198047",
     "exception": false,
     "start_time": "2022-03-03T22:33:03.168395",
     "status": "completed"
    },
    "tags": []
   },
   "outputs": [],
   "source": [
    "import os\n",
    "import numpy as np # linear algebra\n",
    "import pandas as pd # data processing, CSV file I/O (e.g. pd.read_csv)\n",
    "import seaborn as sns\n",
    "import matplotlib.pyplot as plt\n",
    "from pylab import rcParams\n",
    " \n",
    "INDIR = \"/kaggle/input\"\n",
    "OUTDIR = \"/kaggle/working\"\n",
    "DBNAME = \"words.db\"\n",
    "\n",
    "rcParams['figure.figsize'] = 16,9\n",
    "pd.options.plotting.backend = \"matplotlib\"\n",
    "sns.set(style=\"darkgrid\")\n",
    "\n",
    "figs = {}"
   ]
  },
  {
   "cell_type": "markdown",
   "id": "0aa31273",
   "metadata": {
    "_cell_guid": "1c29d7d9-3438-4cc3-ab12-cfeec78611a5",
    "_uuid": "77836b9d-39eb-4d4f-89fd-7a73a1aefba4",
    "papermill": {
     "duration": 0.024625,
     "end_time": "2022-03-03T22:33:04.246450",
     "exception": false,
     "start_time": "2022-03-03T22:33:04.221825",
     "status": "completed"
    },
    "tags": []
   },
   "source": [
    "# Prepping the data\n",
    "\n",
    "We're going to load our words from the word lists that we copied from the source code. There are two lists, one which seems to be a list of played words and ones that have yet to be released."
   ]
  },
  {
   "cell_type": "code",
   "execution_count": 2,
   "id": "78b50dd5",
   "metadata": {
    "_cell_guid": "1c4060c2-5834-49e9-a4de-2fad532a559d",
    "_uuid": "1978ae01-9e97-413b-8840-a5a56cce2554",
    "collapsed": false,
    "execution": {
     "iopub.execute_input": "2022-03-03T22:33:04.298833Z",
     "iopub.status.busy": "2022-03-03T22:33:04.297864Z",
     "iopub.status.idle": "2022-03-03T22:33:04.377452Z",
     "shell.execute_reply": "2022-03-03T22:33:04.377933Z",
     "shell.execute_reply.started": "2022-03-03T22:02:15.490590Z"
    },
    "jupyter": {
     "outputs_hidden": false
    },
    "papermill": {
     "duration": 0.10723,
     "end_time": "2022-03-03T22:33:04.378097",
     "exception": false,
     "start_time": "2022-03-03T22:33:04.270867",
     "status": "completed"
    },
    "tags": []
   },
   "outputs": [
    {
     "data": {
      "text/html": [
       "<div>\n",
       "<style scoped>\n",
       "    .dataframe tbody tr th:only-of-type {\n",
       "        vertical-align: middle;\n",
       "    }\n",
       "\n",
       "    .dataframe tbody tr th {\n",
       "        vertical-align: top;\n",
       "    }\n",
       "\n",
       "    .dataframe thead th {\n",
       "        text-align: right;\n",
       "    }\n",
       "</style>\n",
       "<table border=\"1\" class=\"dataframe\">\n",
       "  <thead>\n",
       "    <tr style=\"text-align: right;\">\n",
       "      <th></th>\n",
       "      <th>name</th>\n",
       "      <th>playable</th>\n",
       "    </tr>\n",
       "  </thead>\n",
       "  <tbody>\n",
       "    <tr>\n",
       "      <th>count</th>\n",
       "      <td>12972</td>\n",
       "      <td>12972</td>\n",
       "    </tr>\n",
       "    <tr>\n",
       "      <th>unique</th>\n",
       "      <td>12972</td>\n",
       "      <td>2</td>\n",
       "    </tr>\n",
       "    <tr>\n",
       "      <th>top</th>\n",
       "      <td>cigar</td>\n",
       "      <td>False</td>\n",
       "    </tr>\n",
       "    <tr>\n",
       "      <th>freq</th>\n",
       "      <td>1</td>\n",
       "      <td>10657</td>\n",
       "    </tr>\n",
       "  </tbody>\n",
       "</table>\n",
       "</div>"
      ],
      "text/plain": [
       "         name playable\n",
       "count   12972    12972\n",
       "unique  12972        2\n",
       "top     cigar    False\n",
       "freq        1    10657"
      ]
     },
     "execution_count": 2,
     "metadata": {},
     "output_type": "execute_result"
    }
   ],
   "source": [
    "playable_words = pd.read_json(\"../input/wordle-word-list/played_words.json\")\n",
    "other_words = pd.read_json(\"../input/wordle-word-list/unplayed_words.json\")\n",
    "\n",
    "playable_words[1] = True\n",
    "other_words[1] = False\n",
    "\n",
    "words = pd.concat([playable_words, other_words])\n",
    "words.columns = [\"name\", \"playable\"]\n",
    "words.reset_index()\n",
    "\n",
    "words.describe()"
   ]
  },
  {
   "cell_type": "markdown",
   "id": "1da8cd1a",
   "metadata": {
    "_cell_guid": "eddf2432-d7fe-4edf-b7e6-3dd6fa293d72",
    "_uuid": "75fa9288-bd86-4e4f-a599-958907154e7d",
    "papermill": {
     "duration": 0.024385,
     "end_time": "2022-03-03T22:33:04.426949",
     "exception": false,
     "start_time": "2022-03-03T22:33:04.402564",
     "status": "completed"
    },
    "tags": []
   },
   "source": [
    "# First Heuristic: Letter Rank\n",
    "\n",
    "It's pretty simple: we're going to find out how often each letter is used in the entire wordle word list and rank them using a barplot. Once that is done, we'll check to see if there are any words spelled using the top 5 letters in the word list. "
   ]
  },
  {
   "cell_type": "code",
   "execution_count": 3,
   "id": "bb9bd7cc",
   "metadata": {
    "_cell_guid": "13ce829c-934d-4ab1-adcd-cb162d15a3c2",
    "_uuid": "a8b9742d-c13e-4b9c-92da-dedfa3204be5",
    "collapsed": false,
    "execution": {
     "iopub.execute_input": "2022-03-03T22:33:04.479096Z",
     "iopub.status.busy": "2022-03-03T22:33:04.478139Z",
     "iopub.status.idle": "2022-03-03T22:33:05.042853Z",
     "shell.execute_reply": "2022-03-03T22:33:05.043519Z",
     "shell.execute_reply.started": "2022-03-03T22:02:15.565309Z"
    },
    "jupyter": {
     "outputs_hidden": false
    },
    "papermill": {
     "duration": 0.592438,
     "end_time": "2022-03-03T22:33:05.043715",
     "exception": false,
     "start_time": "2022-03-03T22:33:04.451277",
     "status": "completed"
    },
    "tags": []
   },
   "outputs": [
    {
     "data": {
      "image/png": "[encoded data removed]",
      "text/plain": [
       "<Figure size 1152x648 with 1 Axes>"
      ]
     },
     "metadata": {},
     "output_type": "display_data"
    }
   ],
   "source": [
    "from itertools import chain\n",
    "\n",
    "game1 = {}\n",
    "\n",
    "letters = pd.Series(chain.from_iterable(words[\"name\"]))\n",
    "letter_counts = letters.value_counts()\n",
    "\n",
    "ax = sns.barplot(\n",
    "    x=letter_counts.index,\n",
    "    y=letter_counts,\n",
    "    color='#69b3a2'\n",
    ")\n",
    "ax.set_xlabel(\"Letters\")\n",
    "ax.set_ylabel(\"Frequency\")\n",
    "ax.set_title(\"Letter Ranking\")\n",
    "figs[\"letter_ranking.png\"] = ax.figure"
   ]
  },
  {
   "cell_type": "markdown",
   "id": "23fd73ad",
   "metadata": {
    "_cell_guid": "3a6bb6ef-3987-4b3c-93ae-b892ec06b99d",
    "_uuid": "8b935440-6137-4e57-b12f-01d22002b3ac",
    "papermill": {
     "duration": 0.025064,
     "end_time": "2022-03-03T22:33:05.097540",
     "exception": false,
     "start_time": "2022-03-03T22:33:05.072476",
     "status": "completed"
    },
    "tags": []
   },
   "source": [
    "From the above, we can see that the top 5 letters are: s, e, a, o and r. Given that information, let's try and find out if there are any words spelled using all five letters."
   ]
  },
  {
   "cell_type": "code",
   "execution_count": 4,
   "id": "c5a1b926",
   "metadata": {
    "_cell_guid": "ce2bd907-08bf-4496-929d-a0158fbbc834",
    "_uuid": "4eaf6f3a-10c1-45a7-a2db-842ef6a9a8b4",
    "collapsed": false,
    "execution": {
     "iopub.execute_input": "2022-03-03T22:33:05.154323Z",
     "iopub.status.busy": "2022-03-03T22:33:05.153598Z",
     "iopub.status.idle": "2022-03-03T22:33:05.174211Z",
     "shell.execute_reply": "2022-03-03T22:33:05.174759Z",
     "shell.execute_reply.started": "2022-03-03T22:02:16.128019Z"
    },
    "jupyter": {
     "outputs_hidden": false
    },
    "papermill": {
     "duration": 0.05226,
     "end_time": "2022-03-03T22:33:05.174947",
     "exception": false,
     "start_time": "2022-03-03T22:33:05.122687",
     "status": "completed"
    },
    "tags": []
   },
   "outputs": [
    {
     "data": {
      "text/html": [
       "<div>\n",
       "<style scoped>\n",
       "    .dataframe tbody tr th:only-of-type {\n",
       "        vertical-align: middle;\n",
       "    }\n",
       "\n",
       "    .dataframe tbody tr th {\n",
       "        vertical-align: top;\n",
       "    }\n",
       "\n",
       "    .dataframe thead th {\n",
       "        text-align: right;\n",
       "    }\n",
       "</style>\n",
       "<table border=\"1\" class=\"dataframe\">\n",
       "  <thead>\n",
       "    <tr style=\"text-align: right;\">\n",
       "      <th></th>\n",
       "      <th>name</th>\n",
       "      <th>playable</th>\n",
       "    </tr>\n",
       "  </thead>\n",
       "  <tbody>\n",
       "    <tr>\n",
       "      <th>1252</th>\n",
       "      <td>arose</td>\n",
       "      <td>True</td>\n",
       "    </tr>\n",
       "    <tr>\n",
       "      <th>112</th>\n",
       "      <td>aeros</td>\n",
       "      <td>False</td>\n",
       "    </tr>\n",
       "    <tr>\n",
       "      <th>8530</th>\n",
       "      <td>soare</td>\n",
       "      <td>False</td>\n",
       "    </tr>\n",
       "  </tbody>\n",
       "</table>\n",
       "</div>"
      ],
      "text/plain": [
       "       name  playable\n",
       "1252  arose      True\n",
       "112   aeros     False\n",
       "8530  soare     False"
      ]
     },
     "execution_count": 4,
     "metadata": {},
     "output_type": "execute_result"
    }
   ],
   "source": [
    "def contains_all(letters):\n",
    "    return lambda word:  set(letters) <= set(word)\n",
    "\n",
    "all_top5_letters = words[\"name\"].apply(contains_all(\"seaor\"))\n",
    "words[all_top5_letters]"
   ]
  },
  {
   "cell_type": "markdown",
   "id": "62a1ce64",
   "metadata": {
    "_cell_guid": "34869328-c37b-4a17-9c1c-bd78863c69d5",
    "_uuid": "34c42fc4-04ba-4c23-98c2-2284e266e050",
    "papermill": {
     "duration": 0.025322,
     "end_time": "2022-03-03T22:33:05.225966",
     "exception": false,
     "start_time": "2022-03-03T22:33:05.200644",
     "status": "completed"
    },
    "tags": []
   },
   "source": [
    "The result is the following three words:\n",
    "1. arose\n",
    "2. aeros\n",
    "3. soare"
   ]
  },
  {
   "cell_type": "markdown",
   "id": "e51d4e76",
   "metadata": {
    "papermill": {
     "duration": 0.026063,
     "end_time": "2022-03-03T22:33:05.278722",
     "exception": false,
     "start_time": "2022-03-03T22:33:05.252659",
     "status": "completed"
    },
    "tags": []
   },
   "source": [
    "## First turn\n"
   ]
  },
  {
   "cell_type": "code",
   "execution_count": 5,
   "id": "c34b44da",
   "metadata": {
    "_cell_guid": "a9d583d2-56aa-4dbb-8a63-eda1c0d660a7",
    "_uuid": "fdbc7628-5918-4ae1-a461-da1e2478d3d7",
    "collapsed": false,
    "execution": {
     "iopub.execute_input": "2022-03-03T22:33:05.333681Z",
     "iopub.status.busy": "2022-03-03T22:33:05.332987Z",
     "iopub.status.idle": "2022-03-03T22:33:05.372582Z",
     "shell.execute_reply": "2022-03-03T22:33:05.373157Z",
     "shell.execute_reply.started": "2022-03-03T22:02:16.154521Z"
    },
    "jupyter": {
     "outputs_hidden": false
    },
    "papermill": {
     "duration": 0.068956,
     "end_time": "2022-03-03T22:33:05.373354",
     "exception": false,
     "start_time": "2022-03-03T22:33:05.304398",
     "status": "completed"
    },
    "tags": []
   },
   "outputs": [
    {
     "data": {
      "text/html": [
       "<div>\n",
       "<style scoped>\n",
       "    .dataframe tbody tr th:only-of-type {\n",
       "        vertical-align: middle;\n",
       "    }\n",
       "\n",
       "    .dataframe tbody tr th {\n",
       "        vertical-align: top;\n",
       "    }\n",
       "\n",
       "    .dataframe thead th {\n",
       "        text-align: right;\n",
       "    }\n",
       "</style>\n",
       "<table border=\"1\" class=\"dataframe\">\n",
       "  <thead>\n",
       "    <tr style=\"text-align: right;\">\n",
       "      <th></th>\n",
       "      <th>name</th>\n",
       "      <th>playable</th>\n",
       "    </tr>\n",
       "  </thead>\n",
       "  <tbody>\n",
       "    <tr>\n",
       "      <th>count</th>\n",
       "      <td>12395</td>\n",
       "      <td>12395</td>\n",
       "    </tr>\n",
       "    <tr>\n",
       "      <th>unique</th>\n",
       "      <td>12395</td>\n",
       "      <td>2</td>\n",
       "    </tr>\n",
       "    <tr>\n",
       "      <th>top</th>\n",
       "      <td>cigar</td>\n",
       "      <td>False</td>\n",
       "    </tr>\n",
       "    <tr>\n",
       "      <th>freq</th>\n",
       "      <td>1</td>\n",
       "      <td>10263</td>\n",
       "    </tr>\n",
       "  </tbody>\n",
       "</table>\n",
       "</div>"
      ],
      "text/plain": [
       "         name playable\n",
       "count   12395    12395\n",
       "unique  12395        2\n",
       "top     cigar    False\n",
       "freq        1    10263"
      ]
     },
     "execution_count": 5,
     "metadata": {},
     "output_type": "execute_result"
    }
   ],
   "source": [
    "def contains_any(letters):\n",
    "    return lambda word: len(set(letters) & set(word)) > 0\n",
    "\n",
    "any_top5_letter = words[\"name\"].apply(contains_any(\"seaor\"))\n",
    "words_turn1 = words[any_top5_letter]\n",
    "words_turn1.describe()"
   ]
  },
  {
   "cell_type": "markdown",
   "id": "e34840b3",
   "metadata": {
    "papermill": {
     "duration": 0.026059,
     "end_time": "2022-03-03T22:33:05.426113",
     "exception": false,
     "start_time": "2022-03-03T22:33:05.400054",
     "status": "completed"
    },
    "tags": []
   },
   "source": [
    "So what does that mean for us? Well, let's look at the worst possible scenario: that we get no yellow or green tiles. In this case, we've still managed to do away with a great deal of the problem space, out of a total 12,972 words we've eliminated 12,395. Using only 1/6th of the time given to us, we've eliminated 95% of the problem space. Let's filter for any possible words using the next 5 most common letters."
   ]
  },
  {
   "cell_type": "markdown",
   "id": "0a07f86b",
   "metadata": {
    "papermill": {
     "duration": 0.025846,
     "end_time": "2022-03-03T22:33:05.478365",
     "exception": false,
     "start_time": "2022-03-03T22:33:05.452519",
     "status": "completed"
    },
    "tags": []
   },
   "source": [
    "## Second Turn"
   ]
  },
  {
   "cell_type": "markdown",
   "id": "983b6357",
   "metadata": {
    "papermill": {
     "duration": 0.025691,
     "end_time": "2022-03-03T22:33:05.529981",
     "exception": false,
     "start_time": "2022-03-03T22:33:05.504290",
     "status": "completed"
    },
    "tags": []
   },
   "source": [
    "The next five most frequent letters according to our chart are i, l, t, n and u. Same as above, we'll check the remaining words in the list and see if all five letters can be used to play a word."
   ]
  },
  {
   "cell_type": "code",
   "execution_count": 6,
   "id": "347164c3",
   "metadata": {
    "execution": {
     "iopub.execute_input": "2022-03-03T22:33:05.585339Z",
     "iopub.status.busy": "2022-03-03T22:33:05.584602Z",
     "iopub.status.idle": "2022-03-03T22:33:05.594801Z",
     "shell.execute_reply": "2022-03-03T22:33:05.595400Z",
     "shell.execute_reply.started": "2022-03-03T22:02:16.196414Z"
    },
    "papermill": {
     "duration": 0.039849,
     "end_time": "2022-03-03T22:33:05.595588",
     "exception": false,
     "start_time": "2022-03-03T22:33:05.555739",
     "status": "completed"
    },
    "tags": []
   },
   "outputs": [
    {
     "data": {
      "text/html": [
       "<div>\n",
       "<style scoped>\n",
       "    .dataframe tbody tr th:only-of-type {\n",
       "        vertical-align: middle;\n",
       "    }\n",
       "\n",
       "    .dataframe tbody tr th {\n",
       "        vertical-align: top;\n",
       "    }\n",
       "\n",
       "    .dataframe thead th {\n",
       "        text-align: right;\n",
       "    }\n",
       "</style>\n",
       "<table border=\"1\" class=\"dataframe\">\n",
       "  <thead>\n",
       "    <tr style=\"text-align: right;\">\n",
       "      <th></th>\n",
       "      <th>name</th>\n",
       "      <th>playable</th>\n",
       "    </tr>\n",
       "  </thead>\n",
       "  <tbody>\n",
       "    <tr>\n",
       "      <th>444</th>\n",
       "      <td>unlit</td>\n",
       "      <td>True</td>\n",
       "    </tr>\n",
       "    <tr>\n",
       "      <th>986</th>\n",
       "      <td>until</td>\n",
       "      <td>True</td>\n",
       "    </tr>\n",
       "  </tbody>\n",
       "</table>\n",
       "</div>"
      ],
      "text/plain": [
       "      name  playable\n",
       "444  unlit      True\n",
       "986  until      True"
      ]
     },
     "execution_count": 6,
     "metadata": {},
     "output_type": "execute_result"
    }
   ],
   "source": [
    "remaining_words = words[~any_top5_letter]\n",
    "all_next5_letters = remaining_words[\"name\"].apply(contains_all(\"intlu\"))\n",
    "remaining_words[all_next5_letters]"
   ]
  },
  {
   "cell_type": "markdown",
   "id": "c7b6e1e3",
   "metadata": {
    "papermill": {
     "duration": 0.026408,
     "end_time": "2022-03-03T22:33:05.649275",
     "exception": false,
     "start_time": "2022-03-03T22:33:05.622867",
     "status": "completed"
    },
    "tags": []
   },
   "source": [
    "So we have two words that use the letters ranking 6 through 10. Again, our worst case scenario is that none of these letters our in the secret word. How many possibilities have we eliminated?"
   ]
  },
  {
   "cell_type": "code",
   "execution_count": 7,
   "id": "3a8818f2",
   "metadata": {
    "execution": {
     "iopub.execute_input": "2022-03-03T22:33:05.705351Z",
     "iopub.status.busy": "2022-03-03T22:33:05.704655Z",
     "iopub.status.idle": "2022-03-03T22:33:05.719480Z",
     "shell.execute_reply": "2022-03-03T22:33:05.720012Z",
     "shell.execute_reply.started": "2022-03-03T22:02:16.208559Z"
    },
    "papermill": {
     "duration": 0.044524,
     "end_time": "2022-03-03T22:33:05.720192",
     "exception": false,
     "start_time": "2022-03-03T22:33:05.675668",
     "status": "completed"
    },
    "tags": []
   },
   "outputs": [
    {
     "data": {
      "text/html": [
       "<div>\n",
       "<style scoped>\n",
       "    .dataframe tbody tr th:only-of-type {\n",
       "        vertical-align: middle;\n",
       "    }\n",
       "\n",
       "    .dataframe tbody tr th {\n",
       "        vertical-align: top;\n",
       "    }\n",
       "\n",
       "    .dataframe thead th {\n",
       "        text-align: right;\n",
       "    }\n",
       "</style>\n",
       "<table border=\"1\" class=\"dataframe\">\n",
       "  <thead>\n",
       "    <tr style=\"text-align: right;\">\n",
       "      <th></th>\n",
       "      <th>name</th>\n",
       "      <th>playable</th>\n",
       "    </tr>\n",
       "  </thead>\n",
       "  <tbody>\n",
       "    <tr>\n",
       "      <th>count</th>\n",
       "      <td>574</td>\n",
       "      <td>574</td>\n",
       "    </tr>\n",
       "    <tr>\n",
       "      <th>unique</th>\n",
       "      <td>574</td>\n",
       "      <td>2</td>\n",
       "    </tr>\n",
       "    <tr>\n",
       "      <th>top</th>\n",
       "      <td>humph</td>\n",
       "      <td>False</td>\n",
       "    </tr>\n",
       "    <tr>\n",
       "      <th>freq</th>\n",
       "      <td>1</td>\n",
       "      <td>392</td>\n",
       "    </tr>\n",
       "  </tbody>\n",
       "</table>\n",
       "</div>"
      ],
      "text/plain": [
       "         name playable\n",
       "count     574      574\n",
       "unique    574        2\n",
       "top     humph    False\n",
       "freq        1      392"
      ]
     },
     "execution_count": 7,
     "metadata": {},
     "output_type": "execute_result"
    }
   ],
   "source": [
    "any_next5_letters = remaining_words[\"name\"].apply(contains_any(\"until\"))\n",
    "words_turn2 = remaining_words[any_next5_letters]\n",
    "words_turn2.describe()"
   ]
  },
  {
   "cell_type": "markdown",
   "id": "ae48c4cd",
   "metadata": {
    "papermill": {
     "duration": 0.027673,
     "end_time": "2022-03-03T22:33:05.775809",
     "exception": false,
     "start_time": "2022-03-03T22:33:05.748136",
     "status": "completed"
    },
    "tags": []
   },
   "source": [
    "Two turns done, and we have eliminated 12,969 (12,395 + 574) words. By turn 3, this means that we have the following possiblities left. Even if we ignore the clues dropped by the game, in three more turns, we'll have the answer (assuming we actually know these words)."
   ]
  },
  {
   "cell_type": "code",
   "execution_count": 8,
   "id": "d628537d",
   "metadata": {
    "execution": {
     "iopub.execute_input": "2022-03-03T22:33:05.837270Z",
     "iopub.status.busy": "2022-03-03T22:33:05.836218Z",
     "iopub.status.idle": "2022-03-03T22:33:05.842570Z",
     "shell.execute_reply": "2022-03-03T22:33:05.843014Z",
     "shell.execute_reply.started": "2022-03-03T22:02:16.225658Z"
    },
    "papermill": {
     "duration": 0.040409,
     "end_time": "2022-03-03T22:33:05.843189",
     "exception": false,
     "start_time": "2022-03-03T22:33:05.802780",
     "status": "completed"
    },
    "tags": []
   },
   "outputs": [
    {
     "data": {
      "text/html": [
       "<div>\n",
       "<style scoped>\n",
       "    .dataframe tbody tr th:only-of-type {\n",
       "        vertical-align: middle;\n",
       "    }\n",
       "\n",
       "    .dataframe tbody tr th {\n",
       "        vertical-align: top;\n",
       "    }\n",
       "\n",
       "    .dataframe thead th {\n",
       "        text-align: right;\n",
       "    }\n",
       "</style>\n",
       "<table border=\"1\" class=\"dataframe\">\n",
       "  <thead>\n",
       "    <tr style=\"text-align: right;\">\n",
       "      <th></th>\n",
       "      <th>name</th>\n",
       "      <th>playable</th>\n",
       "    </tr>\n",
       "  </thead>\n",
       "  <tbody>\n",
       "    <tr>\n",
       "      <th>2132</th>\n",
       "      <td>pygmy</td>\n",
       "      <td>True</td>\n",
       "    </tr>\n",
       "    <tr>\n",
       "      <th>3836</th>\n",
       "      <td>gyppy</td>\n",
       "      <td>False</td>\n",
       "    </tr>\n",
       "    <tr>\n",
       "      <th>4261</th>\n",
       "      <td>hyphy</td>\n",
       "      <td>False</td>\n",
       "    </tr>\n",
       "  </tbody>\n",
       "</table>\n",
       "</div>"
      ],
      "text/plain": [
       "       name  playable\n",
       "2132  pygmy      True\n",
       "3836  gyppy     False\n",
       "4261  hyphy     False"
      ]
     },
     "execution_count": 8,
     "metadata": {},
     "output_type": "execute_result"
    }
   ],
   "source": [
    "remaining_words = remaining_words[~any_next5_letters]\n",
    "remaining_words"
   ]
  },
  {
   "cell_type": "markdown",
   "id": "3e47b289",
   "metadata": {
    "papermill": {
     "duration": 0.027061,
     "end_time": "2022-03-03T22:33:05.898066",
     "exception": false,
     "start_time": "2022-03-03T22:33:05.871005",
     "status": "completed"
    },
    "tags": []
   },
   "source": []
  },
  {
   "cell_type": "code",
   "execution_count": 9,
   "id": "630b1a40",
   "metadata": {
    "execution": {
     "iopub.execute_input": "2022-03-03T22:33:05.957646Z",
     "iopub.status.busy": "2022-03-03T22:33:05.956628Z",
     "iopub.status.idle": "2022-03-03T22:33:06.201458Z",
     "shell.execute_reply": "2022-03-03T22:33:06.200829Z",
     "shell.execute_reply.started": "2022-03-03T22:02:16.236494Z"
    },
    "papermill": {
     "duration": 0.275612,
     "end_time": "2022-03-03T22:33:06.201619",
     "exception": false,
     "start_time": "2022-03-03T22:33:05.926007",
     "status": "completed"
    },
    "tags": []
   },
   "outputs": [
    {
     "data": {
      "text/html": [
       "<div>\n",
       "<style scoped>\n",
       "    .dataframe tbody tr th:only-of-type {\n",
       "        vertical-align: middle;\n",
       "    }\n",
       "\n",
       "    .dataframe tbody tr th {\n",
       "        vertical-align: top;\n",
       "    }\n",
       "\n",
       "    .dataframe thead th {\n",
       "        text-align: right;\n",
       "    }\n",
       "</style>\n",
       "<table border=\"1\" class=\"dataframe\">\n",
       "  <thead>\n",
       "    <tr style=\"text-align: right;\">\n",
       "      <th></th>\n",
       "      <th>Words</th>\n",
       "    </tr>\n",
       "  </thead>\n",
       "  <tbody>\n",
       "    <tr>\n",
       "      <th>Turn 1</th>\n",
       "      <td>12395</td>\n",
       "    </tr>\n",
       "    <tr>\n",
       "      <th>Turn 2</th>\n",
       "      <td>574</td>\n",
       "    </tr>\n",
       "    <tr>\n",
       "      <th>Remaining</th>\n",
       "      <td>3</td>\n",
       "    </tr>\n",
       "  </tbody>\n",
       "</table>\n",
       "</div>"
      ],
      "text/plain": [
       "           Words\n",
       "Turn 1     12395\n",
       "Turn 2       574\n",
       "Remaining      3"
      ]
     },
     "execution_count": 9,
     "metadata": {},
     "output_type": "execute_result"
    },
    {
     "data": {
      "image/png": "[encoded data removed]",
      "text/plain": [
       "<Figure size 1152x648 with 1 Axes>"
      ]
     },
     "metadata": {},
     "output_type": "display_data"
    }
   ],
   "source": [
    "first_game = pd.DataFrame.from_dict({\n",
    "    \"Turn 1\": words_turn1[\"name\"].count(),\n",
    "    \"Turn 2\": words_turn2[\"name\"].count(),\n",
    "    \"Remaining\": remaining_words[\"name\"].count()\n",
    "}, orient=\"index\", columns=[\"Words\"])\n",
    "\n",
    "ax = sns.barplot(\n",
    "    x=first_game.index,\n",
    "    y=first_game.Words,\n",
    "    color='#69b3a2'\n",
    ")\n",
    "#ax.set_xlabel(\"Letters\")\n",
    "ax.set_ylabel(\"Words\")\n",
    "ax.set_title(\"Game 1 results\")\n",
    "figs[\"first_game_result.png\"] = ax.figure\n",
    "first_game"
   ]
  },
  {
   "cell_type": "markdown",
   "id": "fdad3e11",
   "metadata": {
    "_cell_guid": "484c7e6f-4992-475a-9273-4dbeceb7e8dd",
    "_uuid": "fd25a1db-dd98-442c-965b-52526ae4d909",
    "papermill": {
     "duration": 0.028035,
     "end_time": "2022-03-03T22:33:06.258582",
     "exception": false,
     "start_time": "2022-03-03T22:33:06.230547",
     "status": "completed"
    },
    "tags": []
   },
   "source": [
    "# Second Heuristic: Et tu Brute-force-us\n",
    "\n",
    "Our first heuristic used the most common letters to find words that could match against. The thing is, a (good) heuristic gives us an answer that is good enough. So did our heuristic give us the word that eliminates the most "
   ]
  },
  {
   "cell_type": "code",
   "execution_count": 10,
   "id": "ebf77f4e",
   "metadata": {
    "_cell_guid": "1a20c436-da9a-4af9-9572-313193adf838",
    "_uuid": "df655d3d-c04d-4709-8d2e-92509e9e9071",
    "collapsed": false,
    "execution": {
     "iopub.execute_input": "2022-03-03T22:33:06.322504Z",
     "iopub.status.busy": "2022-03-03T22:33:06.318274Z",
     "iopub.status.idle": "2022-03-03T22:36:36.414564Z",
     "shell.execute_reply": "2022-03-03T22:36:36.415077Z",
     "shell.execute_reply.started": "2022-03-03T22:02:16.450494Z"
    },
    "jupyter": {
     "outputs_hidden": false
    },
    "papermill": {
     "duration": 210.128327,
     "end_time": "2022-03-03T22:36:36.415275",
     "exception": false,
     "start_time": "2022-03-03T22:33:06.286948",
     "status": "completed"
    },
    "tags": []
   },
   "outputs": [
    {
     "data": {
      "text/html": [
       "<div>\n",
       "<style scoped>\n",
       "    .dataframe tbody tr th:only-of-type {\n",
       "        vertical-align: middle;\n",
       "    }\n",
       "\n",
       "    .dataframe tbody tr th {\n",
       "        vertical-align: top;\n",
       "    }\n",
       "\n",
       "    .dataframe thead th {\n",
       "        text-align: right;\n",
       "    }\n",
       "</style>\n",
       "<table border=\"1\" class=\"dataframe\">\n",
       "  <thead>\n",
       "    <tr style=\"text-align: right;\">\n",
       "      <th></th>\n",
       "      <th>name</th>\n",
       "      <th>playable</th>\n",
       "      <th>starter_score</th>\n",
       "    </tr>\n",
       "  </thead>\n",
       "  <tbody>\n",
       "    <tr>\n",
       "      <th>8810</th>\n",
       "      <td>stoae</td>\n",
       "      <td>False</td>\n",
       "      <td>12417</td>\n",
       "    </tr>\n",
       "    <tr>\n",
       "      <th>9373</th>\n",
       "      <td>toeas</td>\n",
       "      <td>False</td>\n",
       "      <td>12417</td>\n",
       "    </tr>\n",
       "  </tbody>\n",
       "</table>\n",
       "</div>"
      ],
      "text/plain": [
       "       name  playable  starter_score\n",
       "8810  stoae     False          12417\n",
       "9373  toeas     False          12417"
      ]
     },
     "execution_count": 10,
     "metadata": {},
     "output_type": "execute_result"
    }
   ],
   "source": [
    "def count_matches(words):\n",
    "    return lambda word: words.apply(\n",
    "        contains_any(word)\n",
    "    ).value_counts()[True] # remove the word itself from number of matches\n",
    "\n",
    "words[\"starter_score\"] = words[\"name\"].apply(count_matches(words[\"name\"]))\n",
    "\n",
    "words[words[\"starter_score\"] == words[\"starter_score\"].max()]"
   ]
  },
  {
   "cell_type": "markdown",
   "id": "10bb2ef2",
   "metadata": {
    "_cell_guid": "4c6d9e87-c7d8-41fe-9664-5d4ad38bbabc",
    "_uuid": "cfc91643-c093-4e62-9f97-248debf44342",
    "papermill": {
     "duration": 0.028542,
     "end_time": "2022-03-03T22:36:36.472701",
     "exception": false,
     "start_time": "2022-03-03T22:36:36.444159",
     "status": "completed"
    },
    "tags": []
   },
   "source": [
    "As it turns out, there are two words in the word list that just barely outperform our starter words consisting of the top 5 letter (and I have no idea what they mean):\n",
    "1. Stoae\n",
    "2. Toeas"
   ]
  },
  {
   "cell_type": "markdown",
   "id": "8e568df5",
   "metadata": {
    "papermill": {
     "duration": 0.028684,
     "end_time": "2022-03-03T22:36:36.530044",
     "exception": false,
     "start_time": "2022-03-03T22:36:36.501360",
     "status": "completed"
    },
    "tags": []
   },
   "source": [
    "## Turn 1\n",
    "Since we already know how many words we rule out by playing either of the words above, we can go directly to figuring out what our options are for turn 2 in case we don't match any letters at all."
   ]
  },
  {
   "cell_type": "code",
   "execution_count": 11,
   "id": "6b4e38c7",
   "metadata": {
    "execution": {
     "iopub.execute_input": "2022-03-03T22:36:36.592232Z",
     "iopub.status.busy": "2022-03-03T22:36:36.591189Z",
     "iopub.status.idle": "2022-03-03T22:36:37.315693Z",
     "shell.execute_reply": "2022-03-03T22:36:37.316174Z",
     "shell.execute_reply.started": "2022-03-03T22:05:45.328499Z"
    },
    "papermill": {
     "duration": 0.757471,
     "end_time": "2022-03-03T22:36:37.316379",
     "exception": false,
     "start_time": "2022-03-03T22:36:36.558908",
     "status": "completed"
    },
    "tags": []
   },
   "outputs": [
    {
     "data": {
      "text/html": [
       "<div>\n",
       "<style scoped>\n",
       "    .dataframe tbody tr th:only-of-type {\n",
       "        vertical-align: middle;\n",
       "    }\n",
       "\n",
       "    .dataframe tbody tr th {\n",
       "        vertical-align: top;\n",
       "    }\n",
       "\n",
       "    .dataframe thead th {\n",
       "        text-align: right;\n",
       "    }\n",
       "</style>\n",
       "<table border=\"1\" class=\"dataframe\">\n",
       "  <thead>\n",
       "    <tr style=\"text-align: right;\">\n",
       "      <th></th>\n",
       "      <th>name</th>\n",
       "      <th>playable</th>\n",
       "      <th>starter_score</th>\n",
       "    </tr>\n",
       "  </thead>\n",
       "  <tbody>\n",
       "    <tr>\n",
       "      <th>195</th>\n",
       "      <td>unify</td>\n",
       "      <td>True</td>\n",
       "      <td>554</td>\n",
       "    </tr>\n",
       "    <tr>\n",
       "      <th>754</th>\n",
       "      <td>juicy</td>\n",
       "      <td>True</td>\n",
       "      <td>554</td>\n",
       "    </tr>\n",
       "    <tr>\n",
       "      <th>5379</th>\n",
       "      <td>lupin</td>\n",
       "      <td>False</td>\n",
       "      <td>554</td>\n",
       "    </tr>\n",
       "  </tbody>\n",
       "</table>\n",
       "</div>"
      ],
      "text/plain": [
       "       name  playable  starter_score\n",
       "195   unify      True            554\n",
       "754   juicy      True            554\n",
       "5379  lupin     False            554"
      ]
     },
     "execution_count": 11,
     "metadata": {},
     "output_type": "execute_result"
    }
   ],
   "source": [
    "any_top5_letter = words[\"name\"].apply(contains_any(\"stoae\"))\n",
    "remaining_words = words[~any_top5_letter].copy()\n",
    "remaining_words[\"starter_score\"] = remaining_words[\"name\"].apply(count_matches(remaining_words[\"name\"]))\n",
    "remaining_words[remaining_words[\"starter_score\"] == remaining_words[\"starter_score\"].max()]"
   ]
  },
  {
   "cell_type": "markdown",
   "id": "5e2d3496",
   "metadata": {
    "papermill": {
     "duration": 0.029287,
     "end_time": "2022-03-03T22:36:37.375372",
     "exception": false,
     "start_time": "2022-03-03T22:36:37.346085",
     "status": "completed"
    },
    "tags": []
   },
   "source": [
    "We get three words that match the most remaining words. In fact, they match all the remaining words except one."
   ]
  },
  {
   "cell_type": "markdown",
   "id": "c511680f",
   "metadata": {
    "papermill": {
     "duration": 0.02908,
     "end_time": "2022-03-03T22:36:37.433758",
     "exception": false,
     "start_time": "2022-03-03T22:36:37.404678",
     "status": "completed"
    },
    "tags": []
   },
   "source": [
    "## Turn 2\n",
    "We can play one of the three words above to find out what the last word is: grrrl.\n",
    "\n",
    "I was not expecting that."
   ]
  },
  {
   "cell_type": "code",
   "execution_count": 12,
   "id": "2609e878",
   "metadata": {
    "execution": {
     "iopub.execute_input": "2022-03-03T22:36:37.495821Z",
     "iopub.status.busy": "2022-03-03T22:36:37.495119Z",
     "iopub.status.idle": "2022-03-03T22:36:37.505387Z",
     "shell.execute_reply": "2022-03-03T22:36:37.505914Z",
     "shell.execute_reply.started": "2022-03-03T22:12:12.663695Z"
    },
    "papermill": {
     "duration": 0.042946,
     "end_time": "2022-03-03T22:36:37.506090",
     "exception": false,
     "start_time": "2022-03-03T22:36:37.463144",
     "status": "completed"
    },
    "tags": []
   },
   "outputs": [
    {
     "data": {
      "text/html": [
       "<div>\n",
       "<style scoped>\n",
       "    .dataframe tbody tr th:only-of-type {\n",
       "        vertical-align: middle;\n",
       "    }\n",
       "\n",
       "    .dataframe tbody tr th {\n",
       "        vertical-align: top;\n",
       "    }\n",
       "\n",
       "    .dataframe thead th {\n",
       "        text-align: right;\n",
       "    }\n",
       "</style>\n",
       "<table border=\"1\" class=\"dataframe\">\n",
       "  <thead>\n",
       "    <tr style=\"text-align: right;\">\n",
       "      <th></th>\n",
       "      <th>name</th>\n",
       "      <th>playable</th>\n",
       "      <th>starter_score</th>\n",
       "    </tr>\n",
       "  </thead>\n",
       "  <tbody>\n",
       "    <tr>\n",
       "      <th>3754</th>\n",
       "      <td>grrrl</td>\n",
       "      <td>False</td>\n",
       "      <td>363</td>\n",
       "    </tr>\n",
       "  </tbody>\n",
       "</table>\n",
       "</div>"
      ],
      "text/plain": [
       "       name  playable  starter_score\n",
       "3754  grrrl     False            363"
      ]
     },
     "execution_count": 12,
     "metadata": {},
     "output_type": "execute_result"
    }
   ],
   "source": [
    "any_next5_letters = remaining_words[\"name\"].apply(contains_any(\"unify\"))\n",
    "remaining_words = remaining_words[~any_next5_letters]\n",
    "remaining_words"
   ]
  },
  {
   "cell_type": "markdown",
   "id": "b24f7677",
   "metadata": {
    "papermill": {
     "duration": 0.029466,
     "end_time": "2022-03-03T22:36:37.565867",
     "exception": false,
     "start_time": "2022-03-03T22:36:37.536401",
     "status": "completed"
    },
    "tags": []
   },
   "source": [
    "It would seem that the second method outperforms the first. We're guaranteed to figure the wordle out even if the first two turns don't reveal any green or yellow tiles."
   ]
  },
  {
   "cell_type": "code",
   "execution_count": 13,
   "id": "5cbd5465",
   "metadata": {
    "execution": {
     "iopub.execute_input": "2022-03-03T22:36:37.628317Z",
     "iopub.status.busy": "2022-03-03T22:36:37.627640Z",
     "iopub.status.idle": "2022-03-03T22:36:37.865646Z",
     "shell.execute_reply": "2022-03-03T22:36:37.865085Z",
     "shell.execute_reply.started": "2022-03-03T22:08:42.079328Z"
    },
    "papermill": {
     "duration": 0.270318,
     "end_time": "2022-03-03T22:36:37.865793",
     "exception": false,
     "start_time": "2022-03-03T22:36:37.595475",
     "status": "completed"
    },
    "tags": []
   },
   "outputs": [
    {
     "data": {
      "text/html": [
       "<div>\n",
       "<style scoped>\n",
       "    .dataframe tbody tr th:only-of-type {\n",
       "        vertical-align: middle;\n",
       "    }\n",
       "\n",
       "    .dataframe tbody tr th {\n",
       "        vertical-align: top;\n",
       "    }\n",
       "\n",
       "    .dataframe thead th {\n",
       "        text-align: right;\n",
       "    }\n",
       "</style>\n",
       "<table border=\"1\" class=\"dataframe\">\n",
       "  <thead>\n",
       "    <tr style=\"text-align: right;\">\n",
       "      <th></th>\n",
       "      <th>Words</th>\n",
       "    </tr>\n",
       "  </thead>\n",
       "  <tbody>\n",
       "    <tr>\n",
       "      <th>Turn 1</th>\n",
       "      <td>12417</td>\n",
       "    </tr>\n",
       "    <tr>\n",
       "      <th>Turn 2</th>\n",
       "      <td>554</td>\n",
       "    </tr>\n",
       "    <tr>\n",
       "      <th>Remaining</th>\n",
       "      <td>1</td>\n",
       "    </tr>\n",
       "  </tbody>\n",
       "</table>\n",
       "</div>"
      ],
      "text/plain": [
       "           Words\n",
       "Turn 1     12417\n",
       "Turn 2       554\n",
       "Remaining      1"
      ]
     },
     "execution_count": 13,
     "metadata": {},
     "output_type": "execute_result"
    },
    {
     "data": {
      "image/png": "[encoded data removed]",
      "text/plain": [
       "<Figure size 1152x648 with 1 Axes>"
      ]
     },
     "metadata": {},
     "output_type": "display_data"
    }
   ],
   "source": [
    "second_game = pd.DataFrame.from_dict({\n",
    "    \"Turn 1\": 12417,\n",
    "    \"Turn 2\": 554,\n",
    "    \"Remaining\": 1\n",
    "}, orient=\"index\", columns=[\"Words\"])\n",
    "\n",
    "ax = sns.barplot(\n",
    "    x=second_game.index,\n",
    "    y=second_game.Words,\n",
    "    color='#69b3a2'\n",
    ")\n",
    "#ax.set_xlabel(\"Letters\")\n",
    "ax.set_ylabel(\"Words\")\n",
    "ax.set_title(\"Game 2 results\")\n",
    "figs[\"second_game_result.png\"] = ax.figure\n",
    "second_game"
   ]
  },
  {
   "cell_type": "markdown",
   "id": "50b21eef",
   "metadata": {
    "papermill": {
     "duration": 0.030632,
     "end_time": "2022-03-03T22:36:37.927683",
     "exception": false,
     "start_time": "2022-03-03T22:36:37.897051",
     "status": "completed"
    },
    "tags": []
   },
   "source": [
    "# When you assume, you make ...\n",
    "Having done all the analysis above, can we say that the second heuristic is better than the first?\n",
    "1. Is the worst case scenario really the worst case scenario? How can we find out?\n",
    "2. How do does discovering a yellow or green tile change the likelihood of other letters appearing in the wordle?\n",
    "3. How do you even compare two heuristics or techniques?\n",
    "4. Is there a great starter word?\n",
    "5. We're assuming that the player knows ALL the words in the wordle word list."
   ]
  },
  {
   "cell_type": "markdown",
   "id": "29606e63",
   "metadata": {
    "papermill": {
     "duration": 0.031637,
     "end_time": "2022-03-03T22:36:37.991864",
     "exception": false,
     "start_time": "2022-03-03T22:36:37.960227",
     "status": "completed"
    },
    "tags": []
   },
   "source": [
    "# Final Thoughts (Work in progress)\n"
   ]
  },
  {
   "cell_type": "code",
   "execution_count": 14,
   "id": "db8c435c",
   "metadata": {
    "execution": {
     "iopub.execute_input": "2022-03-03T22:36:38.060501Z",
     "iopub.status.busy": "2022-03-03T22:36:38.059465Z",
     "iopub.status.idle": "2022-03-03T22:36:38.078529Z",
     "shell.execute_reply": "2022-03-03T22:36:38.079029Z",
     "shell.execute_reply.started": "2022-03-03T22:05:46.339961Z"
    },
    "papermill": {
     "duration": 0.055547,
     "end_time": "2022-03-03T22:36:38.079221",
     "exception": false,
     "start_time": "2022-03-03T22:36:38.023674",
     "status": "completed"
    },
    "tags": []
   },
   "outputs": [],
   "source": [
    "matches = words[words['name'].apply(contains_all('sta'))]\n",
    "matches = matches[~matches['name'].apply(contains_any('oe'))]\n",
    "\n"
   ]
  },
  {
   "cell_type": "markdown",
   "id": "ead5bede",
   "metadata": {
    "_cell_guid": "6d75b935-c772-4b39-9ed1-7e04e6998077",
    "_uuid": "730bb09e-8ba1-4086-bb37-9e249e43dd22",
    "papermill": {
     "duration": 0.030936,
     "end_time": "2022-03-03T22:36:38.141408",
     "exception": false,
     "start_time": "2022-03-03T22:36:38.110472",
     "status": "completed"
    },
    "tags": []
   },
   "source": [
    "# Don't mind me\n",
    "Just saving the plots"
   ]
  },
  {
   "cell_type": "code",
   "execution_count": 15,
   "id": "0524610b",
   "metadata": {
    "_cell_guid": "b292ed14-bf67-49ba-a512-02c003eeadd7",
    "_uuid": "8b735c7c-117f-45b2-b55d-d7734d48c6f9",
    "collapsed": false,
    "execution": {
     "iopub.execute_input": "2022-03-03T22:36:38.214290Z",
     "iopub.status.busy": "2022-03-03T22:36:38.213205Z",
     "iopub.status.idle": "2022-03-03T22:36:38.471068Z",
     "shell.execute_reply": "2022-03-03T22:36:38.470466Z",
     "shell.execute_reply.started": "2022-03-03T22:05:46.362234Z"
    },
    "jupyter": {
     "outputs_hidden": false
    },
    "papermill": {
     "duration": 0.298522,
     "end_time": "2022-03-03T22:36:38.471225",
     "exception": false,
     "start_time": "2022-03-03T22:36:38.172703",
     "status": "completed"
    },
    "tags": []
   },
   "outputs": [],
   "source": [
    "for name, figure in figs.items():\n",
    "    figure.savefig(name)"
   ]
  },
  {
   "cell_type": "markdown",
   "id": "78474476",
   "metadata": {
    "_cell_guid": "6fbdcbef-f54a-41d2-b56b-1552e9548447",
    "_uuid": "a65df05a-c6ae-4a73-b568-f1f0f8cff34d",
    "papermill": {
     "duration": 0.030721,
     "end_time": "2022-03-03T22:36:38.533148",
     "exception": false,
     "start_time": "2022-03-03T22:36:38.502427",
     "status": "completed"
    },
    "tags": []
   },
   "source": []
  }
 ],
 "metadata": {
  "kernelspec": {
   "display_name": "Python 3",
   "language": "python",
   "name": "python3"
  },
  "language_info": {
   "codemirror_mode": {
    "name": "ipython",
    "version": 3
   },
   "file_extension": ".py",
   "mimetype": "text/x-python",
   "name": "python",
   "nbconvert_exporter": "python",
   "pygments_lexer": "ipython3",
   "version": "3.7.12"
  },
  "papermill": {
   "default_parameters": {},
   "duration": 226.550368,
   "end_time": "2022-03-03T22:36:39.275693",
   "environment_variables": {},
   "exception": null,
   "input_path": "__notebook__.ipynb",
   "output_path": "__notebook__.ipynb",
   "parameters": {},
   "start_time": "2022-03-03T22:32:52.725325",
   "version": "2.3.3"
  }
 },
 "nbformat": 4,
 "nbformat_minor": 5
}
